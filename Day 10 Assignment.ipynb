{
 "cells": [
  {
   "cell_type": "code",
   "execution_count": 31,
   "id": "33b514be",
   "metadata": {},
   "outputs": [],
   "source": [
    "import numpy as np\n",
    "import pandas as pd\n",
    "from sklearn.model_selection import train_test_split\n",
    "from sklearn.linear_model import LinearRegression\n",
    "from sklearn.linear_model import Ridge,Lasso\n",
    "from sklearn.linear_model import ElasticNet\n",
    "from sklearn import metrics\n",
    "import matplotlib.pyplot as plt\n",
    "import pickle"
   ]
  },
  {
   "cell_type": "markdown",
   "id": "f4995891",
   "metadata": {},
   "source": [
    "# Dataset Nuclear Explosion(19)"
   ]
  },
  {
   "cell_type": "code",
   "execution_count": 2,
   "id": "77519c4f",
   "metadata": {},
   "outputs": [
    {
     "data": {
      "text/html": [
       "<div>\n",
       "<style scoped>\n",
       "    .dataframe tbody tr th:only-of-type {\n",
       "        vertical-align: middle;\n",
       "    }\n",
       "\n",
       "    .dataframe tbody tr th {\n",
       "        vertical-align: top;\n",
       "    }\n",
       "\n",
       "    .dataframe thead th {\n",
       "        text-align: right;\n",
       "    }\n",
       "</style>\n",
       "<table border=\"1\" class=\"dataframe\">\n",
       "  <thead>\n",
       "    <tr style=\"text-align: right;\">\n",
       "      <th></th>\n",
       "      <th>WEAPON SOURCE COUNTRY</th>\n",
       "      <th>WEAPON DEPLOYMENT LOCATION</th>\n",
       "      <th>Data.Source</th>\n",
       "      <th>Location.Cordinates.Latitude</th>\n",
       "      <th>Location.Cordinates.Longitude</th>\n",
       "      <th>Data.Magnitude.Body</th>\n",
       "      <th>Data.Magnitude.Surface</th>\n",
       "      <th>Location.Cordinates.Depth</th>\n",
       "      <th>Data.Yeild.Lower</th>\n",
       "      <th>Data.Yeild.Upper</th>\n",
       "      <th>Data.Purpose</th>\n",
       "      <th>Data.Name</th>\n",
       "      <th>Data.Type</th>\n",
       "      <th>Date.Day</th>\n",
       "      <th>Date.Month</th>\n",
       "      <th>Date.Year</th>\n",
       "    </tr>\n",
       "  </thead>\n",
       "  <tbody>\n",
       "    <tr>\n",
       "      <th>0</th>\n",
       "      <td>USA</td>\n",
       "      <td>Alamogordo</td>\n",
       "      <td>DOE</td>\n",
       "      <td>32.54</td>\n",
       "      <td>-105.57</td>\n",
       "      <td>0.0</td>\n",
       "      <td>0.0</td>\n",
       "      <td>-0.10</td>\n",
       "      <td>21.0</td>\n",
       "      <td>21.0</td>\n",
       "      <td>Wr</td>\n",
       "      <td>Trinity</td>\n",
       "      <td>Tower</td>\n",
       "      <td>16</td>\n",
       "      <td>7</td>\n",
       "      <td>1945</td>\n",
       "    </tr>\n",
       "    <tr>\n",
       "      <th>1</th>\n",
       "      <td>USA</td>\n",
       "      <td>Hiroshima</td>\n",
       "      <td>DOE</td>\n",
       "      <td>34.23</td>\n",
       "      <td>132.27</td>\n",
       "      <td>0.0</td>\n",
       "      <td>0.0</td>\n",
       "      <td>-0.60</td>\n",
       "      <td>15.0</td>\n",
       "      <td>15.0</td>\n",
       "      <td>Combat</td>\n",
       "      <td>Littleboy</td>\n",
       "      <td>Airdrop</td>\n",
       "      <td>5</td>\n",
       "      <td>8</td>\n",
       "      <td>1945</td>\n",
       "    </tr>\n",
       "    <tr>\n",
       "      <th>2</th>\n",
       "      <td>USA</td>\n",
       "      <td>Nagasaki</td>\n",
       "      <td>DOE</td>\n",
       "      <td>32.45</td>\n",
       "      <td>129.52</td>\n",
       "      <td>0.0</td>\n",
       "      <td>0.0</td>\n",
       "      <td>-0.60</td>\n",
       "      <td>21.0</td>\n",
       "      <td>21.0</td>\n",
       "      <td>Combat</td>\n",
       "      <td>Fatman</td>\n",
       "      <td>Airdrop</td>\n",
       "      <td>9</td>\n",
       "      <td>8</td>\n",
       "      <td>1945</td>\n",
       "    </tr>\n",
       "    <tr>\n",
       "      <th>3</th>\n",
       "      <td>USA</td>\n",
       "      <td>Bikini</td>\n",
       "      <td>DOE</td>\n",
       "      <td>11.35</td>\n",
       "      <td>165.20</td>\n",
       "      <td>0.0</td>\n",
       "      <td>0.0</td>\n",
       "      <td>-0.20</td>\n",
       "      <td>21.0</td>\n",
       "      <td>21.0</td>\n",
       "      <td>We</td>\n",
       "      <td>Able</td>\n",
       "      <td>Airdrop</td>\n",
       "      <td>30</td>\n",
       "      <td>6</td>\n",
       "      <td>1946</td>\n",
       "    </tr>\n",
       "    <tr>\n",
       "      <th>4</th>\n",
       "      <td>USA</td>\n",
       "      <td>Bikini</td>\n",
       "      <td>DOE</td>\n",
       "      <td>11.35</td>\n",
       "      <td>165.20</td>\n",
       "      <td>0.0</td>\n",
       "      <td>0.0</td>\n",
       "      <td>0.03</td>\n",
       "      <td>21.0</td>\n",
       "      <td>21.0</td>\n",
       "      <td>We</td>\n",
       "      <td>Baker</td>\n",
       "      <td>Uw</td>\n",
       "      <td>24</td>\n",
       "      <td>7</td>\n",
       "      <td>1946</td>\n",
       "    </tr>\n",
       "    <tr>\n",
       "      <th>...</th>\n",
       "      <td>...</td>\n",
       "      <td>...</td>\n",
       "      <td>...</td>\n",
       "      <td>...</td>\n",
       "      <td>...</td>\n",
       "      <td>...</td>\n",
       "      <td>...</td>\n",
       "      <td>...</td>\n",
       "      <td>...</td>\n",
       "      <td>...</td>\n",
       "      <td>...</td>\n",
       "      <td>...</td>\n",
       "      <td>...</td>\n",
       "      <td>...</td>\n",
       "      <td>...</td>\n",
       "      <td>...</td>\n",
       "    </tr>\n",
       "    <tr>\n",
       "      <th>2041</th>\n",
       "      <td>CHINA</td>\n",
       "      <td>Lop Nor</td>\n",
       "      <td>HFS</td>\n",
       "      <td>41.69</td>\n",
       "      <td>88.35</td>\n",
       "      <td>5.3</td>\n",
       "      <td>0.0</td>\n",
       "      <td>0.00</td>\n",
       "      <td>3.0</td>\n",
       "      <td>12.0</td>\n",
       "      <td>Wr</td>\n",
       "      <td>Nan</td>\n",
       "      <td>Ug</td>\n",
       "      <td>29</td>\n",
       "      <td>7</td>\n",
       "      <td>1996</td>\n",
       "    </tr>\n",
       "    <tr>\n",
       "      <th>2042</th>\n",
       "      <td>INDIA</td>\n",
       "      <td>Pokhran</td>\n",
       "      <td>HFS</td>\n",
       "      <td>27.07</td>\n",
       "      <td>71.70</td>\n",
       "      <td>5.3</td>\n",
       "      <td>0.0</td>\n",
       "      <td>0.00</td>\n",
       "      <td>0.0</td>\n",
       "      <td>20.0</td>\n",
       "      <td>Wr</td>\n",
       "      <td>Shakti 1-3</td>\n",
       "      <td>Ug</td>\n",
       "      <td>11</td>\n",
       "      <td>5</td>\n",
       "      <td>1998</td>\n",
       "    </tr>\n",
       "    <tr>\n",
       "      <th>2043</th>\n",
       "      <td>INDIA</td>\n",
       "      <td>Pokhran</td>\n",
       "      <td>NRD</td>\n",
       "      <td>27.07</td>\n",
       "      <td>71.70</td>\n",
       "      <td>0.0</td>\n",
       "      <td>0.0</td>\n",
       "      <td>0.00</td>\n",
       "      <td>0.0</td>\n",
       "      <td>1.0</td>\n",
       "      <td>Wr</td>\n",
       "      <td>Nan</td>\n",
       "      <td>Ug</td>\n",
       "      <td>13</td>\n",
       "      <td>5</td>\n",
       "      <td>1998</td>\n",
       "    </tr>\n",
       "    <tr>\n",
       "      <th>2044</th>\n",
       "      <td>PAKIST</td>\n",
       "      <td>Chagai</td>\n",
       "      <td>HFS</td>\n",
       "      <td>28.90</td>\n",
       "      <td>64.89</td>\n",
       "      <td>0.0</td>\n",
       "      <td>0.0</td>\n",
       "      <td>0.00</td>\n",
       "      <td>0.0</td>\n",
       "      <td>35.0</td>\n",
       "      <td>Wr</td>\n",
       "      <td>Nan</td>\n",
       "      <td>Ug</td>\n",
       "      <td>28</td>\n",
       "      <td>5</td>\n",
       "      <td>1998</td>\n",
       "    </tr>\n",
       "    <tr>\n",
       "      <th>2045</th>\n",
       "      <td>PAKIST</td>\n",
       "      <td>Kharan</td>\n",
       "      <td>HFS</td>\n",
       "      <td>28.49</td>\n",
       "      <td>63.78</td>\n",
       "      <td>5.0</td>\n",
       "      <td>0.0</td>\n",
       "      <td>0.00</td>\n",
       "      <td>0.0</td>\n",
       "      <td>18.0</td>\n",
       "      <td>Wr</td>\n",
       "      <td>Nan</td>\n",
       "      <td>Ug</td>\n",
       "      <td>30</td>\n",
       "      <td>5</td>\n",
       "      <td>1998</td>\n",
       "    </tr>\n",
       "  </tbody>\n",
       "</table>\n",
       "<p>2046 rows × 16 columns</p>\n",
       "</div>"
      ],
      "text/plain": [
       "     WEAPON SOURCE COUNTRY WEAPON DEPLOYMENT LOCATION Data.Source  \\\n",
       "0                      USA                 Alamogordo         DOE   \n",
       "1                      USA                  Hiroshima         DOE   \n",
       "2                      USA                   Nagasaki         DOE   \n",
       "3                      USA                     Bikini         DOE   \n",
       "4                      USA                     Bikini         DOE   \n",
       "...                    ...                        ...         ...   \n",
       "2041                 CHINA                    Lop Nor         HFS   \n",
       "2042                 INDIA                    Pokhran         HFS   \n",
       "2043                 INDIA                    Pokhran         NRD   \n",
       "2044                PAKIST                     Chagai         HFS   \n",
       "2045                PAKIST                     Kharan         HFS   \n",
       "\n",
       "      Location.Cordinates.Latitude  Location.Cordinates.Longitude  \\\n",
       "0                            32.54                        -105.57   \n",
       "1                            34.23                         132.27   \n",
       "2                            32.45                         129.52   \n",
       "3                            11.35                         165.20   \n",
       "4                            11.35                         165.20   \n",
       "...                            ...                            ...   \n",
       "2041                         41.69                          88.35   \n",
       "2042                         27.07                          71.70   \n",
       "2043                         27.07                          71.70   \n",
       "2044                         28.90                          64.89   \n",
       "2045                         28.49                          63.78   \n",
       "\n",
       "      Data.Magnitude.Body  Data.Magnitude.Surface  Location.Cordinates.Depth  \\\n",
       "0                     0.0                     0.0                      -0.10   \n",
       "1                     0.0                     0.0                      -0.60   \n",
       "2                     0.0                     0.0                      -0.60   \n",
       "3                     0.0                     0.0                      -0.20   \n",
       "4                     0.0                     0.0                       0.03   \n",
       "...                   ...                     ...                        ...   \n",
       "2041                  5.3                     0.0                       0.00   \n",
       "2042                  5.3                     0.0                       0.00   \n",
       "2043                  0.0                     0.0                       0.00   \n",
       "2044                  0.0                     0.0                       0.00   \n",
       "2045                  5.0                     0.0                       0.00   \n",
       "\n",
       "      Data.Yeild.Lower  Data.Yeild.Upper Data.Purpose   Data.Name Data.Type  \\\n",
       "0                 21.0              21.0           Wr     Trinity     Tower   \n",
       "1                 15.0              15.0       Combat   Littleboy   Airdrop   \n",
       "2                 21.0              21.0       Combat      Fatman   Airdrop   \n",
       "3                 21.0              21.0           We        Able   Airdrop   \n",
       "4                 21.0              21.0           We       Baker        Uw   \n",
       "...                ...               ...          ...         ...       ...   \n",
       "2041               3.0              12.0           Wr         Nan        Ug   \n",
       "2042               0.0              20.0           Wr  Shakti 1-3        Ug   \n",
       "2043               0.0               1.0           Wr         Nan        Ug   \n",
       "2044               0.0              35.0           Wr         Nan        Ug   \n",
       "2045               0.0              18.0           Wr         Nan        Ug   \n",
       "\n",
       "      Date.Day  Date.Month  Date.Year  \n",
       "0           16           7       1945  \n",
       "1            5           8       1945  \n",
       "2            9           8       1945  \n",
       "3           30           6       1946  \n",
       "4           24           7       1946  \n",
       "...        ...         ...        ...  \n",
       "2041        29           7       1996  \n",
       "2042        11           5       1998  \n",
       "2043        13           5       1998  \n",
       "2044        28           5       1998  \n",
       "2045        30           5       1998  \n",
       "\n",
       "[2046 rows x 16 columns]"
      ]
     },
     "execution_count": 2,
     "metadata": {},
     "output_type": "execute_result"
    }
   ],
   "source": [
    "a=pd.read_csv(r\"E:\\Python Data Science\\Documents\\19_nuclear_explosions.csv\")\n",
    "a"
   ]
  },
  {
   "cell_type": "code",
   "execution_count": 3,
   "id": "d569838a",
   "metadata": {
    "scrolled": false
   },
   "outputs": [
    {
     "name": "stdout",
     "output_type": "stream",
     "text": [
      "<class 'pandas.core.frame.DataFrame'>\n",
      "RangeIndex: 2046 entries, 0 to 2045\n",
      "Data columns (total 16 columns):\n",
      " #   Column                         Non-Null Count  Dtype  \n",
      "---  ------                         --------------  -----  \n",
      " 0   WEAPON SOURCE COUNTRY          2046 non-null   object \n",
      " 1   WEAPON DEPLOYMENT LOCATION     2046 non-null   object \n",
      " 2   Data.Source                    2046 non-null   object \n",
      " 3   Location.Cordinates.Latitude   2046 non-null   float64\n",
      " 4   Location.Cordinates.Longitude  2046 non-null   float64\n",
      " 5   Data.Magnitude.Body            2046 non-null   float64\n",
      " 6   Data.Magnitude.Surface         2046 non-null   float64\n",
      " 7   Location.Cordinates.Depth      2046 non-null   float64\n",
      " 8   Data.Yeild.Lower               2046 non-null   float64\n",
      " 9   Data.Yeild.Upper               2046 non-null   float64\n",
      " 10  Data.Purpose                   2046 non-null   object \n",
      " 11  Data.Name                      2046 non-null   object \n",
      " 12  Data.Type                      2046 non-null   object \n",
      " 13  Date.Day                       2046 non-null   int64  \n",
      " 14  Date.Month                     2046 non-null   int64  \n",
      " 15  Date.Year                      2046 non-null   int64  \n",
      "dtypes: float64(7), int64(3), object(6)\n",
      "memory usage: 255.9+ KB\n"
     ]
    }
   ],
   "source": [
    "a.info()"
   ]
  },
  {
   "cell_type": "code",
   "execution_count": 5,
   "id": "2235a74b",
   "metadata": {
    "scrolled": true
   },
   "outputs": [
    {
     "data": {
      "text/plain": [
       "Index(['WEAPON SOURCE COUNTRY', 'WEAPON DEPLOYMENT LOCATION', 'Data.Source',\n",
       "       'Location.Cordinates.Latitude', 'Location.Cordinates.Longitude',\n",
       "       'Data.Magnitude.Body', 'Data.Magnitude.Surface',\n",
       "       'Location.Cordinates.Depth', 'Data.Yeild.Lower', 'Data.Yeild.Upper',\n",
       "       'Data.Purpose', 'Data.Name', 'Data.Type', 'Date.Day', 'Date.Month',\n",
       "       'Date.Year'],\n",
       "      dtype='object')"
      ]
     },
     "execution_count": 5,
     "metadata": {},
     "output_type": "execute_result"
    }
   ],
   "source": [
    "a.columns"
   ]
  },
  {
   "cell_type": "code",
   "execution_count": 34,
   "id": "cf3b0aa0",
   "metadata": {},
   "outputs": [],
   "source": [
    "x=a[['Location.Cordinates.Latitude', 'Location.Cordinates.Longitude','Date.Day', 'Date.Month','Date.Year']]\n",
    "y=a['Date.Day']"
   ]
  },
  {
   "cell_type": "code",
   "execution_count": 35,
   "id": "09d24623",
   "metadata": {},
   "outputs": [],
   "source": [
    "x_train,x_test,y_train,y_test=train_test_split(x,y,test_size=0.3)"
   ]
  },
  {
   "cell_type": "code",
   "execution_count": 36,
   "id": "44daced5",
   "metadata": {},
   "outputs": [
    {
     "data": {
      "text/plain": [
       "LinearRegression()"
      ]
     },
     "execution_count": 36,
     "metadata": {},
     "output_type": "execute_result"
    }
   ],
   "source": [
    "lr=LinearRegression()\n",
    "lr.fit(x_train,y_train)"
   ]
  },
  {
   "cell_type": "code",
   "execution_count": 37,
   "id": "b38714a5",
   "metadata": {},
   "outputs": [
    {
     "name": "stdout",
     "output_type": "stream",
     "text": [
      "2.3092638912203256e-13\n"
     ]
    }
   ],
   "source": [
    "print(lr.intercept_)"
   ]
  },
  {
   "cell_type": "code",
   "execution_count": 38,
   "id": "a67499ce",
   "metadata": {},
   "outputs": [
    {
     "data": {
      "text/html": [
       "<div>\n",
       "<style scoped>\n",
       "    .dataframe tbody tr th:only-of-type {\n",
       "        vertical-align: middle;\n",
       "    }\n",
       "\n",
       "    .dataframe tbody tr th {\n",
       "        vertical-align: top;\n",
       "    }\n",
       "\n",
       "    .dataframe thead th {\n",
       "        text-align: right;\n",
       "    }\n",
       "</style>\n",
       "<table border=\"1\" class=\"dataframe\">\n",
       "  <thead>\n",
       "    <tr style=\"text-align: right;\">\n",
       "      <th></th>\n",
       "      <th>Co-efficient</th>\n",
       "    </tr>\n",
       "  </thead>\n",
       "  <tbody>\n",
       "    <tr>\n",
       "      <th>Location.Cordinates.Latitude</th>\n",
       "      <td>0.000000e+00</td>\n",
       "    </tr>\n",
       "    <tr>\n",
       "      <th>Location.Cordinates.Longitude</th>\n",
       "      <td>-1.321138e-17</td>\n",
       "    </tr>\n",
       "    <tr>\n",
       "      <th>Date.Day</th>\n",
       "      <td>1.000000e+00</td>\n",
       "    </tr>\n",
       "    <tr>\n",
       "      <th>Date.Month</th>\n",
       "      <td>4.723528e-16</td>\n",
       "    </tr>\n",
       "    <tr>\n",
       "      <th>Date.Year</th>\n",
       "      <td>-1.210268e-16</td>\n",
       "    </tr>\n",
       "  </tbody>\n",
       "</table>\n",
       "</div>"
      ],
      "text/plain": [
       "                               Co-efficient\n",
       "Location.Cordinates.Latitude   0.000000e+00\n",
       "Location.Cordinates.Longitude -1.321138e-17\n",
       "Date.Day                       1.000000e+00\n",
       "Date.Month                     4.723528e-16\n",
       "Date.Year                     -1.210268e-16"
      ]
     },
     "execution_count": 38,
     "metadata": {},
     "output_type": "execute_result"
    }
   ],
   "source": [
    "coeff=pd.DataFrame(lr.coef_,x.columns,columns=['Co-efficient'])\n",
    "coeff"
   ]
  },
  {
   "cell_type": "code",
   "execution_count": 39,
   "id": "6fa8769d",
   "metadata": {},
   "outputs": [
    {
     "data": {
      "text/plain": [
       "<matplotlib.collections.PathCollection at 0x2132fb43610>"
      ]
     },
     "execution_count": 39,
     "metadata": {},
     "output_type": "execute_result"
    },
    {
     "data": {
      "image/png": "[encoded data removed]",
      "text/plain": [
       "<Figure size 432x288 with 1 Axes>"
      ]
     },
     "metadata": {
      "needs_background": "light"
     },
     "output_type": "display_data"
    }
   ],
   "source": [
    "#Predicting\n",
    "\n",
    "prediction=lr.predict(x_test)\n",
    "plt.scatter(y_test,prediction)"
   ]
  },
  {
   "cell_type": "code",
   "execution_count": 40,
   "id": "d8c4d9cf",
   "metadata": {},
   "outputs": [
    {
     "name": "stdout",
     "output_type": "stream",
     "text": [
      "1.0\n"
     ]
    }
   ],
   "source": [
    "# Score\n",
    "print(lr.score(x_test,y_test))"
   ]
  },
  {
   "cell_type": "code",
   "execution_count": 41,
   "id": "ac253749",
   "metadata": {},
   "outputs": [
    {
     "data": {
      "text/plain": [
       "Ridge(alpha=10)"
      ]
     },
     "execution_count": 41,
     "metadata": {},
     "output_type": "execute_result"
    }
   ],
   "source": [
    "#Ridge fitting\n",
    "rr=Ridge(alpha=10)\n",
    "rr.fit(x_train,y_train)"
   ]
  },
  {
   "cell_type": "code",
   "execution_count": 42,
   "id": "d90905fa",
   "metadata": {},
   "outputs": [
    {
     "data": {
      "text/plain": [
       "0.9999999915080077"
      ]
     },
     "execution_count": 42,
     "metadata": {},
     "output_type": "execute_result"
    }
   ],
   "source": [
    "#Ridge Score\n",
    "rr.score(x_test,y_test)"
   ]
  },
  {
   "cell_type": "code",
   "execution_count": 43,
   "id": "089a7657",
   "metadata": {},
   "outputs": [
    {
     "data": {
      "text/plain": [
       "Lasso(alpha=10)"
      ]
     },
     "execution_count": 43,
     "metadata": {},
     "output_type": "execute_result"
    }
   ],
   "source": [
    "# Lasso Fitting\n",
    "la=Lasso(alpha=10)\n",
    "la.fit(x_train,y_train)"
   ]
  },
  {
   "cell_type": "code",
   "execution_count": 44,
   "id": "5bf44bf4",
   "metadata": {},
   "outputs": [
    {
     "data": {
      "text/plain": [
       "0.9828446312771798"
      ]
     },
     "execution_count": 44,
     "metadata": {},
     "output_type": "execute_result"
    }
   ],
   "source": [
    "# Lasso Score\n",
    "la.score(x_test,y_test)"
   ]
  },
  {
   "cell_type": "code",
   "execution_count": 45,
   "id": "349bfe97",
   "metadata": {},
   "outputs": [
    {
     "data": {
      "text/plain": [
       "ElasticNet()"
      ]
     },
     "execution_count": 45,
     "metadata": {},
     "output_type": "execute_result"
    }
   ],
   "source": [
    "# ElasticNet\n",
    "en=ElasticNet()\n",
    "en.fit(x_train,y_train)"
   ]
  },
  {
   "cell_type": "code",
   "execution_count": 46,
   "id": "de8e9c51",
   "metadata": {},
   "outputs": [
    {
     "name": "stdout",
     "output_type": "stream",
     "text": [
      "[ 0.00000000e+00  5.41964309e-06  9.87013039e-01 -0.00000000e+00\n",
      "  0.00000000e+00]\n"
     ]
    }
   ],
   "source": [
    "print(en.coef_)"
   ]
  },
  {
   "cell_type": "code",
   "execution_count": 47,
   "id": "73262fde",
   "metadata": {},
   "outputs": [
    {
     "name": "stdout",
     "output_type": "stream",
     "text": [
      "0.2145600881098808\n"
     ]
    }
   ],
   "source": [
    "print(en.intercept_)"
   ]
  },
  {
   "cell_type": "code",
   "execution_count": 48,
   "id": "43ca381b",
   "metadata": {},
   "outputs": [
    {
     "name": "stdout",
     "output_type": "stream",
     "text": [
      "[23.90315648 12.05808788 30.81133562 10.08406169 21.92799607 10.08517126\n",
      " 29.82432259  2.188883   11.07212724  8.1115432  20.94108041 26.86315882\n",
      " 29.82419739  4.16304029  3.17497156  9.09705418 30.81112426 16.99315308\n",
      " 25.87732292 16.00719226  9.09707044 24.89078139 29.82524718 29.82432231\n",
      " 27.85029597 23.9021197   1.20199586 28.8384222  22.91615536 18.96811293\n",
      "  1.20094445 23.90224435 10.08511755 24.88925739 22.9161662  12.05914525\n",
      " 25.87626848 12.05913929  7.12413237  6.13600921 18.96717915 20.94211573\n",
      " 19.95419219 16.00719208 19.95406738 27.85029651 23.90318466 24.88988607\n",
      " 11.07107284 23.90348306  1.2008198   7.12407491 20.94120523 28.83730955\n",
      " 11.07212696  8.11096248 21.92799607 10.0849452  29.82419902 17.98016449\n",
      " 14.03362143 23.90224337 27.85123952 19.95406754  4.16198357 14.03211152\n",
      " 16.9931514   1.20160039 12.05808517 20.94120523 20.94225781 10.0840618\n",
      "  6.13717823 24.88925739 24.88925502  5.14899558  5.1488728  25.87627\n",
      " 28.83730906 17.98016612 19.95419219 25.87719068  9.09704794 21.92926968\n",
      " 15.01912693 17.98016593 29.82537508 16.00764751 28.83730955 15.01912675\n",
      "  1.20094445  5.14899652 14.03303801  4.16304023 17.98016574 28.83718616\n",
      " 10.08511375 14.03317079  8.11096357 24.88913318 18.9682304  25.87627027\n",
      " 17.98016584  7.12302263 23.90313475 18.96717915  5.14899639 22.91615709\n",
      " 26.86315882 25.87626777 17.98127714 14.03304072 17.98016612 17.98108491\n",
      " 24.88925468 14.03317059 27.8502971  16.99293087 12.05808837 11.07095031\n",
      " 23.90224435 12.0591433   2.18888425  1.20199586 30.81226889 17.98122235\n",
      "  4.16303422 20.9410808  30.81133562 15.02017941 12.05808788 24.89027709\n",
      "  6.13600964 25.87716071 14.03211396 29.82583006 16.99426302 16.00614004\n",
      " 16.99420449 29.82419793  4.16332222 10.08410581 28.83730955 12.05897128\n",
      " 23.90224435 12.05796323 28.83841772 23.90328492 30.81133562 21.92910547\n",
      " 14.03211141 16.99420465  9.09704876 28.83835012 15.01891563 22.9152312\n",
      " 24.88913274 20.9421225  14.03211396 14.03211168 26.86416145 20.94213161\n",
      " 20.94120523  2.1890089   8.11003351 29.82495126 12.05913978 25.87626799\n",
      " 12.05808739 14.03211307  8.10991107 26.86315882 11.07258231 28.83730955\n",
      " 18.96717888 16.99315308 10.08511809 25.87627043  1.20182243  4.16198187\n",
      " 26.86299449 14.03211436 24.8901771   6.13600802 13.04660839 21.92821827\n",
      " 26.86306126  1.20094445 16.99315308 24.89031319  5.14899606 29.82432214\n",
      " 20.94272924 18.96717899 27.85029651 18.96717915 25.87716077 21.92927077\n",
      "  9.0970484  24.88988607 22.91615807 12.05808788 15.019127   18.96717915\n",
      " 16.99302842 26.86480747 26.8642021  12.05808788 16.00739496  5.1489953\n",
      " 11.07107484 28.83836096 15.02018361 11.07107447 16.00614004 24.88925685\n",
      " 30.81133562 17.98016612 16.99315273 16.00614004 14.03211141 25.8762688\n",
      " 18.96717915 20.94237382  7.12302268 29.82537454 11.07199921  4.16303498\n",
      " 23.90313442  8.11003572 14.03211396 20.94120523 30.81238769  4.16198357\n",
      "  8.1115432  24.88925706 25.87626934 24.89030967 16.99420449 29.825374\n",
      " 16.00703032  7.12407984 16.99315141  2.18858617 20.9422554  27.85017186\n",
      " 26.86434041 20.94271271 16.00613977  6.13600964 28.83730917 28.83883355\n",
      " 22.91523131  5.14899606 20.94212255  4.16198357 12.05871656 21.92821827\n",
      " 22.91523019 12.05808788  2.18946496  3.17484609 23.90224392  5.14899661\n",
      "  2.18795749  9.0981013  25.87626977 15.01912646  2.18783284 27.85017272\n",
      " 25.87732184 16.9942641  12.05808831 28.83836562 16.00614004 27.85129589\n",
      " 26.86328347 24.89030934  9.09704876  5.15034214 16.99315115 24.89018415\n",
      " 28.83730955  3.17511686 26.86328318 25.87732758 30.81133454 25.87732184\n",
      "  6.13588499 21.92821801 11.07085264 21.92914449 23.90212002  8.11109155\n",
      " 25.8777779  24.88925739 24.89030923 23.90329576 26.86328347  8.1115432\n",
      " 16.00613949 24.89036509  8.11108713  4.16291033 28.83730955 14.03322715\n",
      "  3.17584851 26.86328293 16.99420541 11.0710746  18.96717915 14.03322499\n",
      " 25.87738964  7.1240794  26.86433488 27.85180398 24.89031376 27.85134358\n",
      " 29.82432221  5.14887195 27.85029604  6.13572067  7.12407409  1.20094331\n",
      " 11.07095021 21.92937558  5.15004883 26.86315967 28.83836096 12.05808517\n",
      " 10.08469048 10.08511375 18.96718934 16.99420951 28.83819295  5.15004802\n",
      " 28.83730955  6.13600894 28.83730955 14.03277002 28.83836096 10.08410966\n",
      " 21.92926968  4.16198357 28.83836551  2.18901442 22.91628272  6.13706562\n",
      " 18.96823057  2.1879566  22.91523093 25.87626842 22.91523131  3.17497053\n",
      " 14.03362143  7.12302263 12.05808772  2.18795749 21.92955692  7.12302064\n",
      " 30.81133497 21.92821827  5.15050408  7.12302245  6.13753365 22.91628397\n",
      "  2.18795749 12.05808788 28.83730952 17.98120669 25.87732184 18.96695695\n",
      " 20.94226114 16.00719179 12.05901345 20.94120523 14.03211376 15.0201835\n",
      " 18.9670543  16.9931526  10.0840618  25.87627006 16.99315308  9.09704876\n",
      " 10.0850523  24.88925522  7.12289803 17.98016612  2.18783284 22.91523131\n",
      " 27.85029651 27.85029651 15.02017841 19.9557162  19.9552436  20.9412048\n",
      " 11.07200062 29.825374   18.9670545  10.08406039 11.07212625 15.01912646\n",
      "  2.1890089   5.1500323   2.18795573 11.07107484  1.20094445  3.17497009\n",
      " 10.08406186 25.8773226  19.9552436  16.00613949 26.86433488 20.94225448\n",
      " 12.05808788 29.82537942 16.00613949  9.09704876  1.20157264  9.09704876\n",
      " 20.94225773  3.17602717 21.92910818  4.16303914 12.05786567  9.09682656\n",
      " 26.86433515 10.0849793  19.9552448  29.82520599  6.13706106 10.0840607\n",
      "  2.18773528  5.14887195 28.83730933  5.14899661 27.85134792 26.86328346\n",
      "  4.1619834  29.8253741  12.05796286 23.90224435 14.03345261 23.90224435\n",
      " 28.83836187 28.83836589 23.90224397 18.96823599 25.87614578 25.87626994\n",
      " 22.91510666  1.2008198  17.98016557 24.88925739 11.0721269   7.12407219\n",
      " 17.98016612 15.019127   20.94120399  2.18888269 29.82583006  2.18858617\n",
      "  9.09692411  6.13600964 15.01912646 10.08511321 18.96823073 17.98016612\n",
      " 12.05796323 17.98016574  2.18948149 29.82432221 21.92821827 21.92927066\n",
      " 17.98016509 21.92926817 20.94225664 16.00719253 28.83841705 11.07095181\n",
      " 18.96823057 28.83730914 23.90329576 21.92926968  7.12302255  1.20094445\n",
      " 18.96696779 20.94120469 28.83823631 23.90314997 14.03317082 16.99315297\n",
      " 24.89031379 22.91510657 11.07107484 30.81133562 25.87732749  4.16290382\n",
      " 10.0840618  27.85029651 29.82432259  9.09767744 23.90329674  6.1371194\n",
      "  9.09704876 18.96717807  4.16198194 21.92909625 24.88925739 28.83730955\n",
      " 13.04615764 24.88925723 17.98107662 23.90224289 28.83836193 28.837185\n",
      " 14.03304012 24.88925799 24.89018415 24.8903088   2.1890089  27.85029651\n",
      " 25.87732184 19.95524373 22.91628272  6.13751712 29.825374   28.83836096\n",
      " 10.0840618  13.04615233  4.16291031 13.04510081 16.00601538 20.94120485\n",
      " 17.98121753 18.9670545  21.92821827 22.91523131 17.9810924   3.17497042\n",
      "  1.2009445  28.8383615   5.14899661  5.14899627 10.08497501 21.92821827\n",
      " 26.86421023 27.85134678 16.00613994 23.90224369  9.09835674  3.17602194\n",
      "  7.12290345 10.0840618  30.8128431  15.01978296  1.20160239  4.16176136\n",
      " 22.9162876   5.14887195 25.87598145  5.14899661 29.825374   18.9670545\n",
      " 14.03317003  5.14899661 11.07107235  8.11003572 13.04611819 17.98016612\n",
      "  5.15005306 19.95524922 12.05808788 19.95524577 29.82537481 23.90317111\n",
      " 10.0840618  20.94108058 24.88925739 24.89038378 27.85029651  2.18795749\n",
      " 25.87614578 14.03211374  1.20210192 22.91523131  6.1369364   5.15010598\n",
      " 26.86328347  8.1100354   1.20094445 22.91628311 11.0709498  30.81133416\n",
      " 22.91523131  2.18888425 27.85017231 19.95419122 16.99420823 16.00613991\n",
      " 27.85123952  3.17589729 13.04510114 10.08511397 16.00676872  1.20199586\n",
      "  5.14899661 20.94120496  8.11114545 29.82419793 19.95524398 18.96717825\n",
      " 24.88925723 19.95524409]\n"
     ]
    }
   ],
   "source": [
    "print(en.predict(x_test))"
   ]
  },
  {
   "cell_type": "code",
   "execution_count": 49,
   "id": "b50d554f",
   "metadata": {},
   "outputs": [
    {
     "name": "stdout",
     "output_type": "stream",
     "text": [
      "0.9998306262233414\n"
     ]
    }
   ],
   "source": [
    "print(en.score(x_test,y_test))"
   ]
  },
  {
   "cell_type": "code",
   "execution_count": 50,
   "id": "876d421f",
   "metadata": {},
   "outputs": [
    {
     "name": "stdout",
     "output_type": "stream",
     "text": [
      "Mean Absolute Error: 2.322246629521317e-15\n"
     ]
    }
   ],
   "source": [
    "print(\"Mean Absolute Error:\",metrics.mean_absolute_error(y_test,prediction))"
   ]
  },
  {
   "cell_type": "code",
   "execution_count": 51,
   "id": "dbff5f50",
   "metadata": {},
   "outputs": [
    {
     "name": "stdout",
     "output_type": "stream",
     "text": [
      "Mean Squared Error: 9.311614072227204e-30\n"
     ]
    }
   ],
   "source": [
    "print(\"Mean Squared Error:\",metrics.mean_squared_error(y_test,prediction))"
   ]
  },
  {
   "cell_type": "code",
   "execution_count": 52,
   "id": "be2945fa",
   "metadata": {},
   "outputs": [
    {
     "name": "stdout",
     "output_type": "stream",
     "text": [
      "Root Mean Squared Error: 3.051493744418822e-15\n"
     ]
    }
   ],
   "source": [
    "print(\"Root Mean Squared Error:\",np.sqrt(metrics.mean_squared_error(y_test,prediction)))"
   ]
  },
  {
   "cell_type": "code",
   "execution_count": 53,
   "id": "320fc2e8",
   "metadata": {},
   "outputs": [],
   "source": [
    "# Model Saving\n",
    "\n",
    "filename=\"Prediction\"\n",
    "pickle.dump(lr,open(filename,'wb'))"
   ]
  },
  {
   "cell_type": "code",
   "execution_count": 54,
   "id": "4c49ae3d",
   "metadata": {},
   "outputs": [],
   "source": [
    "filename='Prediction'\n",
    "model=pickle.load(open(filename,'rb'))"
   ]
  },
  {
   "cell_type": "code",
   "execution_count": 55,
   "id": "74e120e1",
   "metadata": {},
   "outputs": [],
   "source": [
    "real=[[10,30,15,45,48],[11,43,23,56,89]]\n",
    "result=model.predict(real)"
   ]
  },
  {
   "cell_type": "code",
   "execution_count": 56,
   "id": "df38716c",
   "metadata": {},
   "outputs": [
    {
     "data": {
      "text/plain": [
       "array([15., 23.])"
      ]
     },
     "execution_count": 56,
     "metadata": {},
     "output_type": "execute_result"
    }
   ],
   "source": [
    "result"
   ]
  },
  {
   "cell_type": "markdown",
   "id": "8837c49f",
   "metadata": {},
   "source": [
    "# DataSet States(20)"
   ]
  },
  {
   "cell_type": "code",
   "execution_count": 57,
   "id": "7beebc79",
   "metadata": {},
   "outputs": [
    {
     "data": {
      "text/html": [
       "<div>\n",
       "<style scoped>\n",
       "    .dataframe tbody tr th:only-of-type {\n",
       "        vertical-align: middle;\n",
       "    }\n",
       "\n",
       "    .dataframe tbody tr th {\n",
       "        vertical-align: top;\n",
       "    }\n",
       "\n",
       "    .dataframe thead th {\n",
       "        text-align: right;\n",
       "    }\n",
       "</style>\n",
       "<table border=\"1\" class=\"dataframe\">\n",
       "  <thead>\n",
       "    <tr style=\"text-align: right;\">\n",
       "      <th></th>\n",
       "      <th>id</th>\n",
       "      <th>name</th>\n",
       "      <th>country_id</th>\n",
       "      <th>country_code</th>\n",
       "      <th>country_name</th>\n",
       "      <th>state_code</th>\n",
       "      <th>type</th>\n",
       "      <th>latitude</th>\n",
       "      <th>longitude</th>\n",
       "    </tr>\n",
       "  </thead>\n",
       "  <tbody>\n",
       "    <tr>\n",
       "      <th>0</th>\n",
       "      <td>3901</td>\n",
       "      <td>Badakhshan</td>\n",
       "      <td>1</td>\n",
       "      <td>AF</td>\n",
       "      <td>Afghanistan</td>\n",
       "      <td>BDS</td>\n",
       "      <td>NaN</td>\n",
       "      <td>36.734772</td>\n",
       "      <td>70.811995</td>\n",
       "    </tr>\n",
       "    <tr>\n",
       "      <th>1</th>\n",
       "      <td>3871</td>\n",
       "      <td>Badghis</td>\n",
       "      <td>1</td>\n",
       "      <td>AF</td>\n",
       "      <td>Afghanistan</td>\n",
       "      <td>BDG</td>\n",
       "      <td>NaN</td>\n",
       "      <td>35.167134</td>\n",
       "      <td>63.769538</td>\n",
       "    </tr>\n",
       "    <tr>\n",
       "      <th>2</th>\n",
       "      <td>3875</td>\n",
       "      <td>Baghlan</td>\n",
       "      <td>1</td>\n",
       "      <td>AF</td>\n",
       "      <td>Afghanistan</td>\n",
       "      <td>BGL</td>\n",
       "      <td>NaN</td>\n",
       "      <td>36.178903</td>\n",
       "      <td>68.745306</td>\n",
       "    </tr>\n",
       "    <tr>\n",
       "      <th>3</th>\n",
       "      <td>3884</td>\n",
       "      <td>Balkh</td>\n",
       "      <td>1</td>\n",
       "      <td>AF</td>\n",
       "      <td>Afghanistan</td>\n",
       "      <td>BAL</td>\n",
       "      <td>NaN</td>\n",
       "      <td>36.755060</td>\n",
       "      <td>66.897537</td>\n",
       "    </tr>\n",
       "    <tr>\n",
       "      <th>4</th>\n",
       "      <td>3872</td>\n",
       "      <td>Bamyan</td>\n",
       "      <td>1</td>\n",
       "      <td>AF</td>\n",
       "      <td>Afghanistan</td>\n",
       "      <td>BAM</td>\n",
       "      <td>NaN</td>\n",
       "      <td>34.810007</td>\n",
       "      <td>67.821210</td>\n",
       "    </tr>\n",
       "    <tr>\n",
       "      <th>...</th>\n",
       "      <td>...</td>\n",
       "      <td>...</td>\n",
       "      <td>...</td>\n",
       "      <td>...</td>\n",
       "      <td>...</td>\n",
       "      <td>...</td>\n",
       "      <td>...</td>\n",
       "      <td>...</td>\n",
       "      <td>...</td>\n",
       "    </tr>\n",
       "    <tr>\n",
       "      <th>5072</th>\n",
       "      <td>1953</td>\n",
       "      <td>Mashonaland West Province</td>\n",
       "      <td>247</td>\n",
       "      <td>ZW</td>\n",
       "      <td>Zimbabwe</td>\n",
       "      <td>MW</td>\n",
       "      <td>NaN</td>\n",
       "      <td>-17.485103</td>\n",
       "      <td>29.788925</td>\n",
       "    </tr>\n",
       "    <tr>\n",
       "      <th>5073</th>\n",
       "      <td>1960</td>\n",
       "      <td>Masvingo Province</td>\n",
       "      <td>247</td>\n",
       "      <td>ZW</td>\n",
       "      <td>Zimbabwe</td>\n",
       "      <td>MV</td>\n",
       "      <td>NaN</td>\n",
       "      <td>-20.624151</td>\n",
       "      <td>31.262637</td>\n",
       "    </tr>\n",
       "    <tr>\n",
       "      <th>5074</th>\n",
       "      <td>1954</td>\n",
       "      <td>Matabeleland North Province</td>\n",
       "      <td>247</td>\n",
       "      <td>ZW</td>\n",
       "      <td>Zimbabwe</td>\n",
       "      <td>MN</td>\n",
       "      <td>NaN</td>\n",
       "      <td>-18.533157</td>\n",
       "      <td>27.549585</td>\n",
       "    </tr>\n",
       "    <tr>\n",
       "      <th>5075</th>\n",
       "      <td>1952</td>\n",
       "      <td>Matabeleland South Province</td>\n",
       "      <td>247</td>\n",
       "      <td>ZW</td>\n",
       "      <td>Zimbabwe</td>\n",
       "      <td>MS</td>\n",
       "      <td>NaN</td>\n",
       "      <td>-21.052337</td>\n",
       "      <td>29.045993</td>\n",
       "    </tr>\n",
       "    <tr>\n",
       "      <th>5076</th>\n",
       "      <td>1957</td>\n",
       "      <td>Midlands Province</td>\n",
       "      <td>247</td>\n",
       "      <td>ZW</td>\n",
       "      <td>Zimbabwe</td>\n",
       "      <td>MI</td>\n",
       "      <td>NaN</td>\n",
       "      <td>-19.055201</td>\n",
       "      <td>29.603549</td>\n",
       "    </tr>\n",
       "  </tbody>\n",
       "</table>\n",
       "<p>5077 rows × 9 columns</p>\n",
       "</div>"
      ],
      "text/plain": [
       "        id                         name  country_id country_code country_name  \\\n",
       "0     3901                   Badakhshan           1           AF  Afghanistan   \n",
       "1     3871                      Badghis           1           AF  Afghanistan   \n",
       "2     3875                      Baghlan           1           AF  Afghanistan   \n",
       "3     3884                        Balkh           1           AF  Afghanistan   \n",
       "4     3872                       Bamyan           1           AF  Afghanistan   \n",
       "...    ...                          ...         ...          ...          ...   \n",
       "5072  1953    Mashonaland West Province         247           ZW     Zimbabwe   \n",
       "5073  1960            Masvingo Province         247           ZW     Zimbabwe   \n",
       "5074  1954  Matabeleland North Province         247           ZW     Zimbabwe   \n",
       "5075  1952  Matabeleland South Province         247           ZW     Zimbabwe   \n",
       "5076  1957            Midlands Province         247           ZW     Zimbabwe   \n",
       "\n",
       "     state_code type   latitude  longitude  \n",
       "0           BDS  NaN  36.734772  70.811995  \n",
       "1           BDG  NaN  35.167134  63.769538  \n",
       "2           BGL  NaN  36.178903  68.745306  \n",
       "3           BAL  NaN  36.755060  66.897537  \n",
       "4           BAM  NaN  34.810007  67.821210  \n",
       "...         ...  ...        ...        ...  \n",
       "5072         MW  NaN -17.485103  29.788925  \n",
       "5073         MV  NaN -20.624151  31.262637  \n",
       "5074         MN  NaN -18.533157  27.549585  \n",
       "5075         MS  NaN -21.052337  29.045993  \n",
       "5076         MI  NaN -19.055201  29.603549  \n",
       "\n",
       "[5077 rows x 9 columns]"
      ]
     },
     "execution_count": 57,
     "metadata": {},
     "output_type": "execute_result"
    }
   ],
   "source": [
    "b=pd.read_csv(r\"E:\\Python Data Science\\Documents\\20_states.csv\")\n",
    "b"
   ]
  },
  {
   "cell_type": "code",
   "execution_count": 58,
   "id": "94ecf201",
   "metadata": {},
   "outputs": [
    {
     "name": "stdout",
     "output_type": "stream",
     "text": [
      "<class 'pandas.core.frame.DataFrame'>\n",
      "RangeIndex: 5077 entries, 0 to 5076\n",
      "Data columns (total 9 columns):\n",
      " #   Column        Non-Null Count  Dtype  \n",
      "---  ------        --------------  -----  \n",
      " 0   id            5077 non-null   int64  \n",
      " 1   name          5077 non-null   object \n",
      " 2   country_id    5077 non-null   int64  \n",
      " 3   country_code  5063 non-null   object \n",
      " 4   country_name  5077 non-null   object \n",
      " 5   state_code    5072 non-null   object \n",
      " 6   type          1597 non-null   object \n",
      " 7   latitude      5008 non-null   float64\n",
      " 8   longitude     5008 non-null   float64\n",
      "dtypes: float64(2), int64(2), object(5)\n",
      "memory usage: 357.1+ KB\n"
     ]
    }
   ],
   "source": [
    "b.info()"
   ]
  },
  {
   "cell_type": "code",
   "execution_count": 63,
   "id": "67cdd3fd",
   "metadata": {},
   "outputs": [
    {
     "data": {
      "text/html": [
       "<div>\n",
       "<style scoped>\n",
       "    .dataframe tbody tr th:only-of-type {\n",
       "        vertical-align: middle;\n",
       "    }\n",
       "\n",
       "    .dataframe tbody tr th {\n",
       "        vertical-align: top;\n",
       "    }\n",
       "\n",
       "    .dataframe thead th {\n",
       "        text-align: right;\n",
       "    }\n",
       "</style>\n",
       "<table border=\"1\" class=\"dataframe\">\n",
       "  <thead>\n",
       "    <tr style=\"text-align: right;\">\n",
       "      <th></th>\n",
       "      <th>id</th>\n",
       "      <th>name</th>\n",
       "      <th>country_id</th>\n",
       "      <th>country_code</th>\n",
       "      <th>country_name</th>\n",
       "      <th>state_code</th>\n",
       "      <th>type</th>\n",
       "      <th>latitude</th>\n",
       "      <th>longitude</th>\n",
       "    </tr>\n",
       "  </thead>\n",
       "  <tbody>\n",
       "    <tr>\n",
       "      <th>0</th>\n",
       "      <td>3901</td>\n",
       "      <td>Badakhshan</td>\n",
       "      <td>1</td>\n",
       "      <td>AF</td>\n",
       "      <td>Afghanistan</td>\n",
       "      <td>BDS</td>\n",
       "      <td>12</td>\n",
       "      <td>36.734772</td>\n",
       "      <td>70.811995</td>\n",
       "    </tr>\n",
       "    <tr>\n",
       "      <th>1</th>\n",
       "      <td>3871</td>\n",
       "      <td>Badghis</td>\n",
       "      <td>1</td>\n",
       "      <td>AF</td>\n",
       "      <td>Afghanistan</td>\n",
       "      <td>BDG</td>\n",
       "      <td>12</td>\n",
       "      <td>35.167134</td>\n",
       "      <td>63.769538</td>\n",
       "    </tr>\n",
       "    <tr>\n",
       "      <th>2</th>\n",
       "      <td>3875</td>\n",
       "      <td>Baghlan</td>\n",
       "      <td>1</td>\n",
       "      <td>AF</td>\n",
       "      <td>Afghanistan</td>\n",
       "      <td>BGL</td>\n",
       "      <td>12</td>\n",
       "      <td>36.178903</td>\n",
       "      <td>68.745306</td>\n",
       "    </tr>\n",
       "    <tr>\n",
       "      <th>3</th>\n",
       "      <td>3884</td>\n",
       "      <td>Balkh</td>\n",
       "      <td>1</td>\n",
       "      <td>AF</td>\n",
       "      <td>Afghanistan</td>\n",
       "      <td>BAL</td>\n",
       "      <td>12</td>\n",
       "      <td>36.755060</td>\n",
       "      <td>66.897537</td>\n",
       "    </tr>\n",
       "    <tr>\n",
       "      <th>4</th>\n",
       "      <td>3872</td>\n",
       "      <td>Bamyan</td>\n",
       "      <td>1</td>\n",
       "      <td>AF</td>\n",
       "      <td>Afghanistan</td>\n",
       "      <td>BAM</td>\n",
       "      <td>12</td>\n",
       "      <td>34.810007</td>\n",
       "      <td>67.821210</td>\n",
       "    </tr>\n",
       "    <tr>\n",
       "      <th>...</th>\n",
       "      <td>...</td>\n",
       "      <td>...</td>\n",
       "      <td>...</td>\n",
       "      <td>...</td>\n",
       "      <td>...</td>\n",
       "      <td>...</td>\n",
       "      <td>...</td>\n",
       "      <td>...</td>\n",
       "      <td>...</td>\n",
       "    </tr>\n",
       "    <tr>\n",
       "      <th>5072</th>\n",
       "      <td>1953</td>\n",
       "      <td>Mashonaland West Province</td>\n",
       "      <td>247</td>\n",
       "      <td>ZW</td>\n",
       "      <td>Zimbabwe</td>\n",
       "      <td>MW</td>\n",
       "      <td>12</td>\n",
       "      <td>-17.485103</td>\n",
       "      <td>29.788925</td>\n",
       "    </tr>\n",
       "    <tr>\n",
       "      <th>5073</th>\n",
       "      <td>1960</td>\n",
       "      <td>Masvingo Province</td>\n",
       "      <td>247</td>\n",
       "      <td>ZW</td>\n",
       "      <td>Zimbabwe</td>\n",
       "      <td>MV</td>\n",
       "      <td>12</td>\n",
       "      <td>-20.624151</td>\n",
       "      <td>31.262637</td>\n",
       "    </tr>\n",
       "    <tr>\n",
       "      <th>5074</th>\n",
       "      <td>1954</td>\n",
       "      <td>Matabeleland North Province</td>\n",
       "      <td>247</td>\n",
       "      <td>ZW</td>\n",
       "      <td>Zimbabwe</td>\n",
       "      <td>MN</td>\n",
       "      <td>12</td>\n",
       "      <td>-18.533157</td>\n",
       "      <td>27.549585</td>\n",
       "    </tr>\n",
       "    <tr>\n",
       "      <th>5075</th>\n",
       "      <td>1952</td>\n",
       "      <td>Matabeleland South Province</td>\n",
       "      <td>247</td>\n",
       "      <td>ZW</td>\n",
       "      <td>Zimbabwe</td>\n",
       "      <td>MS</td>\n",
       "      <td>12</td>\n",
       "      <td>-21.052337</td>\n",
       "      <td>29.045993</td>\n",
       "    </tr>\n",
       "    <tr>\n",
       "      <th>5076</th>\n",
       "      <td>1957</td>\n",
       "      <td>Midlands Province</td>\n",
       "      <td>247</td>\n",
       "      <td>ZW</td>\n",
       "      <td>Zimbabwe</td>\n",
       "      <td>MI</td>\n",
       "      <td>12</td>\n",
       "      <td>-19.055201</td>\n",
       "      <td>29.603549</td>\n",
       "    </tr>\n",
       "  </tbody>\n",
       "</table>\n",
       "<p>5077 rows × 9 columns</p>\n",
       "</div>"
      ],
      "text/plain": [
       "        id                         name  country_id country_code country_name  \\\n",
       "0     3901                   Badakhshan           1           AF  Afghanistan   \n",
       "1     3871                      Badghis           1           AF  Afghanistan   \n",
       "2     3875                      Baghlan           1           AF  Afghanistan   \n",
       "3     3884                        Balkh           1           AF  Afghanistan   \n",
       "4     3872                       Bamyan           1           AF  Afghanistan   \n",
       "...    ...                          ...         ...          ...          ...   \n",
       "5072  1953    Mashonaland West Province         247           ZW     Zimbabwe   \n",
       "5073  1960            Masvingo Province         247           ZW     Zimbabwe   \n",
       "5074  1954  Matabeleland North Province         247           ZW     Zimbabwe   \n",
       "5075  1952  Matabeleland South Province         247           ZW     Zimbabwe   \n",
       "5076  1957            Midlands Province         247           ZW     Zimbabwe   \n",
       "\n",
       "     state_code type   latitude  longitude  \n",
       "0           BDS   12  36.734772  70.811995  \n",
       "1           BDG   12  35.167134  63.769538  \n",
       "2           BGL   12  36.178903  68.745306  \n",
       "3           BAL   12  36.755060  66.897537  \n",
       "4           BAM   12  34.810007  67.821210  \n",
       "...         ...  ...        ...        ...  \n",
       "5072         MW   12 -17.485103  29.788925  \n",
       "5073         MV   12 -20.624151  31.262637  \n",
       "5074         MN   12 -18.533157  27.549585  \n",
       "5075         MS   12 -21.052337  29.045993  \n",
       "5076         MI   12 -19.055201  29.603549  \n",
       "\n",
       "[5077 rows x 9 columns]"
      ]
     },
     "execution_count": 63,
     "metadata": {},
     "output_type": "execute_result"
    }
   ],
   "source": [
    "c=b.fillna(value=12)\n",
    "c"
   ]
  },
  {
   "cell_type": "code",
   "execution_count": 64,
   "id": "66164753",
   "metadata": {},
   "outputs": [
    {
     "data": {
      "text/plain": [
       "Index(['id', 'name', 'country_id', 'country_code', 'country_name',\n",
       "       'state_code', 'type', 'latitude', 'longitude'],\n",
       "      dtype='object')"
      ]
     },
     "execution_count": 64,
     "metadata": {},
     "output_type": "execute_result"
    }
   ],
   "source": [
    "c.columns"
   ]
  },
  {
   "cell_type": "code",
   "execution_count": 68,
   "id": "e016e4a9",
   "metadata": {},
   "outputs": [],
   "source": [
    "x=c[['id','country_id',  'latitude', 'longitude']]\n",
    "y=c[ 'longitude']"
   ]
  },
  {
   "cell_type": "code",
   "execution_count": 69,
   "id": "55776c51",
   "metadata": {},
   "outputs": [],
   "source": [
    "x_train,x_test,y_train,y_test=train_test_split(x,y,test_size=0.3)"
   ]
  },
  {
   "cell_type": "code",
   "execution_count": 70,
   "id": "92bf9c3f",
   "metadata": {},
   "outputs": [
    {
     "data": {
      "text/plain": [
       "LinearRegression()"
      ]
     },
     "execution_count": 70,
     "metadata": {},
     "output_type": "execute_result"
    }
   ],
   "source": [
    "lr=LinearRegression()\n",
    "lr.fit(x_train,y_train)"
   ]
  },
  {
   "cell_type": "code",
   "execution_count": 71,
   "id": "218ce427",
   "metadata": {},
   "outputs": [
    {
     "name": "stdout",
     "output_type": "stream",
     "text": [
      "-7.105427357601002e-15\n"
     ]
    }
   ],
   "source": [
    "print(lr.intercept_)"
   ]
  },
  {
   "cell_type": "code",
   "execution_count": 72,
   "id": "d7cf0a3a",
   "metadata": {},
   "outputs": [
    {
     "data": {
      "text/html": [
       "<div>\n",
       "<style scoped>\n",
       "    .dataframe tbody tr th:only-of-type {\n",
       "        vertical-align: middle;\n",
       "    }\n",
       "\n",
       "    .dataframe tbody tr th {\n",
       "        vertical-align: top;\n",
       "    }\n",
       "\n",
       "    .dataframe thead th {\n",
       "        text-align: right;\n",
       "    }\n",
       "</style>\n",
       "<table border=\"1\" class=\"dataframe\">\n",
       "  <thead>\n",
       "    <tr style=\"text-align: right;\">\n",
       "      <th></th>\n",
       "      <th>Co-efficient</th>\n",
       "    </tr>\n",
       "  </thead>\n",
       "  <tbody>\n",
       "    <tr>\n",
       "      <th>id</th>\n",
       "      <td>6.360891e-19</td>\n",
       "    </tr>\n",
       "    <tr>\n",
       "      <th>country_id</th>\n",
       "      <td>1.175807e-16</td>\n",
       "    </tr>\n",
       "    <tr>\n",
       "      <th>latitude</th>\n",
       "      <td>-2.141985e-16</td>\n",
       "    </tr>\n",
       "    <tr>\n",
       "      <th>longitude</th>\n",
       "      <td>1.000000e+00</td>\n",
       "    </tr>\n",
       "  </tbody>\n",
       "</table>\n",
       "</div>"
      ],
      "text/plain": [
       "            Co-efficient\n",
       "id          6.360891e-19\n",
       "country_id  1.175807e-16\n",
       "latitude   -2.141985e-16\n",
       "longitude   1.000000e+00"
      ]
     },
     "execution_count": 72,
     "metadata": {},
     "output_type": "execute_result"
    }
   ],
   "source": [
    "coeff=pd.DataFrame(lr.coef_,x.columns,columns=['Co-efficient'])\n",
    "coeff"
   ]
  },
  {
   "cell_type": "code",
   "execution_count": 73,
   "id": "2a24f828",
   "metadata": {},
   "outputs": [
    {
     "data": {
      "text/plain": [
       "<matplotlib.collections.PathCollection at 0x2132fc1e1c0>"
      ]
     },
     "execution_count": 73,
     "metadata": {},
     "output_type": "execute_result"
    },
    {
     "data": {
      "image/png": "[encoded data removed]",
      "text/plain": [
       "<Figure size 432x288 with 1 Axes>"
      ]
     },
     "metadata": {
      "needs_background": "light"
     },
     "output_type": "display_data"
    }
   ],
   "source": [
    "\n",
    "#Predicting\n",
    "\n",
    "prediction=lr.predict(x_test)\n",
    "plt.scatter(y_test,prediction)"
   ]
  },
  {
   "cell_type": "code",
   "execution_count": 74,
   "id": "5aaa1cb8",
   "metadata": {},
   "outputs": [
    {
     "name": "stdout",
     "output_type": "stream",
     "text": [
      "1.0\n"
     ]
    }
   ],
   "source": [
    "# Score\n",
    "print(lr.score(x_test,y_test))"
   ]
  },
  {
   "cell_type": "code",
   "execution_count": 75,
   "id": "a035a186",
   "metadata": {},
   "outputs": [
    {
     "data": {
      "text/plain": [
       "Ridge(alpha=10)"
      ]
     },
     "execution_count": 75,
     "metadata": {},
     "output_type": "execute_result"
    }
   ],
   "source": [
    "#Ridge fitting\n",
    "rr=Ridge(alpha=10)\n",
    "rr.fit(x_train,y_train)"
   ]
  },
  {
   "cell_type": "code",
   "execution_count": 76,
   "id": "5d1f25b4",
   "metadata": {},
   "outputs": [
    {
     "data": {
      "text/plain": [
       "0.9999999999994046"
      ]
     },
     "execution_count": 76,
     "metadata": {},
     "output_type": "execute_result"
    }
   ],
   "source": [
    "#Ridge Score\n",
    "rr.score(x_test,y_test)"
   ]
  },
  {
   "cell_type": "code",
   "execution_count": 77,
   "id": "d816b15b",
   "metadata": {},
   "outputs": [
    {
     "data": {
      "text/plain": [
       "Lasso(alpha=10)"
      ]
     },
     "execution_count": 77,
     "metadata": {},
     "output_type": "execute_result"
    }
   ],
   "source": [
    "# Lasso Fitting\n",
    "la=Lasso(alpha=10)\n",
    "la.fit(x_train,y_train)"
   ]
  },
  {
   "cell_type": "code",
   "execution_count": 78,
   "id": "dd58b54b",
   "metadata": {},
   "outputs": [
    {
     "data": {
      "text/plain": [
       "0.999992499563783"
      ]
     },
     "execution_count": 78,
     "metadata": {},
     "output_type": "execute_result"
    }
   ],
   "source": [
    "# Lasso Score\n",
    "la.score(x_test,y_test)"
   ]
  },
  {
   "cell_type": "code",
   "execution_count": 79,
   "id": "40bbd941",
   "metadata": {},
   "outputs": [
    {
     "data": {
      "text/plain": [
       "ElasticNet()"
      ]
     },
     "execution_count": 79,
     "metadata": {},
     "output_type": "execute_result"
    }
   ],
   "source": [
    "\n",
    "# ElasticNet\n",
    "en=ElasticNet()\n",
    "en.fit(x_train,y_train)"
   ]
  },
  {
   "cell_type": "code",
   "execution_count": 80,
   "id": "e22d8163",
   "metadata": {},
   "outputs": [
    {
     "name": "stdout",
     "output_type": "stream",
     "text": [
      "[-7.15600596e-07  0.00000000e+00 -0.00000000e+00  9.99724499e-01]\n"
     ]
    }
   ],
   "source": [
    "print(en.coef_)\n"
   ]
  },
  {
   "cell_type": "code",
   "execution_count": 81,
   "id": "7a65b38b",
   "metadata": {},
   "outputs": [
    {
     "name": "stdout",
     "output_type": "stream",
     "text": [
      "0.006583324447458239\n"
     ]
    }
   ],
   "source": [
    "print(en.intercept_)"
   ]
  },
  {
   "cell_type": "code",
   "execution_count": 82,
   "id": "d9bbfe77",
   "metadata": {},
   "outputs": [
    {
     "name": "stdout",
     "output_type": "stream",
     "text": [
      "[ 38.99183778 -93.379616    -3.42298782 ...  -1.12325946  72.93069266\n",
      "  35.51657767]\n"
     ]
    }
   ],
   "source": [
    "print(en.predict(x_test))"
   ]
  },
  {
   "cell_type": "code",
   "execution_count": 83,
   "id": "2544a0a7",
   "metadata": {},
   "outputs": [
    {
     "name": "stdout",
     "output_type": "stream",
     "text": [
      "0.9999999249754027\n"
     ]
    }
   ],
   "source": [
    "print(en.score(x_test,y_test))"
   ]
  },
  {
   "cell_type": "code",
   "execution_count": 84,
   "id": "d79ceb40",
   "metadata": {},
   "outputs": [
    {
     "name": "stdout",
     "output_type": "stream",
     "text": [
      "Mean Absolute Error: 1.2870898071819649e-14\n"
     ]
    }
   ],
   "source": [
    "print(\"Mean Absolute Error:\",metrics.mean_absolute_error(y_test,prediction))"
   ]
  },
  {
   "cell_type": "code",
   "execution_count": 85,
   "id": "d192c98d",
   "metadata": {},
   "outputs": [
    {
     "name": "stdout",
     "output_type": "stream",
     "text": [
      "Mean Squared Error: 2.882393513010361e-28\n"
     ]
    }
   ],
   "source": [
    "print(\"Mean Squared Error:\",metrics.mean_squared_error(y_test,prediction))"
   ]
  },
  {
   "cell_type": "code",
   "execution_count": 86,
   "id": "8ea0b615",
   "metadata": {},
   "outputs": [
    {
     "name": "stdout",
     "output_type": "stream",
     "text": [
      "Root Mean Squared Error: 1.697761323923466e-14\n"
     ]
    }
   ],
   "source": [
    "print(\"Root Mean Squared Error:\",np.sqrt(metrics.mean_squared_error(y_test,prediction)))"
   ]
  },
  {
   "cell_type": "code",
   "execution_count": 87,
   "id": "fdea01b9",
   "metadata": {},
   "outputs": [],
   "source": [
    "# Model Saving\n",
    "filename=\"Prediction\"\n",
    "pickle.dump(lr,open(filename,'wb'))"
   ]
  },
  {
   "cell_type": "code",
   "execution_count": 88,
   "id": "b4dc249a",
   "metadata": {},
   "outputs": [],
   "source": [
    "filename='Prediction'\n",
    "model=pickle.load(open(filename,'rb'))"
   ]
  },
  {
   "cell_type": "code",
   "execution_count": 89,
   "id": "584b0121",
   "metadata": {},
   "outputs": [],
   "source": [
    "real=[[10,30,15,45],[11,43,23,56]]\n",
    "result=model.predict(real)"
   ]
  },
  {
   "cell_type": "code",
   "execution_count": 90,
   "id": "78bb5c34",
   "metadata": {},
   "outputs": [
    {
     "data": {
      "text/plain": [
       "array([45., 56.])"
      ]
     },
     "execution_count": 90,
     "metadata": {},
     "output_type": "execute_result"
    }
   ],
   "source": [
    "result"
   ]
  },
  {
   "cell_type": "markdown",
   "id": "0e9253f6",
   "metadata": {},
   "source": [
    "# DataSet Cities(21)"
   ]
  },
  {
   "cell_type": "code",
   "execution_count": 91,
   "id": "a33bfec3",
   "metadata": {},
   "outputs": [
    {
     "data": {
      "text/html": [
       "<div>\n",
       "<style scoped>\n",
       "    .dataframe tbody tr th:only-of-type {\n",
       "        vertical-align: middle;\n",
       "    }\n",
       "\n",
       "    .dataframe tbody tr th {\n",
       "        vertical-align: top;\n",
       "    }\n",
       "\n",
       "    .dataframe thead th {\n",
       "        text-align: right;\n",
       "    }\n",
       "</style>\n",
       "<table border=\"1\" class=\"dataframe\">\n",
       "  <thead>\n",
       "    <tr style=\"text-align: right;\">\n",
       "      <th></th>\n",
       "      <th>id</th>\n",
       "      <th>name</th>\n",
       "      <th>state_id</th>\n",
       "      <th>state_code</th>\n",
       "      <th>state_name</th>\n",
       "      <th>country_id</th>\n",
       "      <th>country_code</th>\n",
       "      <th>country_name</th>\n",
       "      <th>latitude</th>\n",
       "      <th>longitude</th>\n",
       "      <th>wikiDataId</th>\n",
       "    </tr>\n",
       "  </thead>\n",
       "  <tbody>\n",
       "    <tr>\n",
       "      <th>0</th>\n",
       "      <td>52</td>\n",
       "      <td>Ashkāsham</td>\n",
       "      <td>3901</td>\n",
       "      <td>BDS</td>\n",
       "      <td>Badakhshan</td>\n",
       "      <td>1</td>\n",
       "      <td>AF</td>\n",
       "      <td>Afghanistan</td>\n",
       "      <td>36.68333</td>\n",
       "      <td>71.53333</td>\n",
       "      <td>Q4805192</td>\n",
       "    </tr>\n",
       "    <tr>\n",
       "      <th>1</th>\n",
       "      <td>68</td>\n",
       "      <td>Fayzabad</td>\n",
       "      <td>3901</td>\n",
       "      <td>BDS</td>\n",
       "      <td>Badakhshan</td>\n",
       "      <td>1</td>\n",
       "      <td>AF</td>\n",
       "      <td>Afghanistan</td>\n",
       "      <td>37.11664</td>\n",
       "      <td>70.58002</td>\n",
       "      <td>Q156558</td>\n",
       "    </tr>\n",
       "    <tr>\n",
       "      <th>2</th>\n",
       "      <td>78</td>\n",
       "      <td>Jurm</td>\n",
       "      <td>3901</td>\n",
       "      <td>BDS</td>\n",
       "      <td>Badakhshan</td>\n",
       "      <td>1</td>\n",
       "      <td>AF</td>\n",
       "      <td>Afghanistan</td>\n",
       "      <td>36.86477</td>\n",
       "      <td>70.83421</td>\n",
       "      <td>Q10308323</td>\n",
       "    </tr>\n",
       "    <tr>\n",
       "      <th>3</th>\n",
       "      <td>84</td>\n",
       "      <td>Khandūd</td>\n",
       "      <td>3901</td>\n",
       "      <td>BDS</td>\n",
       "      <td>Badakhshan</td>\n",
       "      <td>1</td>\n",
       "      <td>AF</td>\n",
       "      <td>Afghanistan</td>\n",
       "      <td>36.95127</td>\n",
       "      <td>72.31800</td>\n",
       "      <td>Q3290334</td>\n",
       "    </tr>\n",
       "    <tr>\n",
       "      <th>4</th>\n",
       "      <td>115</td>\n",
       "      <td>Rāghistān</td>\n",
       "      <td>3901</td>\n",
       "      <td>BDS</td>\n",
       "      <td>Badakhshan</td>\n",
       "      <td>1</td>\n",
       "      <td>AF</td>\n",
       "      <td>Afghanistan</td>\n",
       "      <td>37.66079</td>\n",
       "      <td>70.67346</td>\n",
       "      <td>Q2670909</td>\n",
       "    </tr>\n",
       "    <tr>\n",
       "      <th>...</th>\n",
       "      <td>...</td>\n",
       "      <td>...</td>\n",
       "      <td>...</td>\n",
       "      <td>...</td>\n",
       "      <td>...</td>\n",
       "      <td>...</td>\n",
       "      <td>...</td>\n",
       "      <td>...</td>\n",
       "      <td>...</td>\n",
       "      <td>...</td>\n",
       "      <td>...</td>\n",
       "    </tr>\n",
       "    <tr>\n",
       "      <th>150449</th>\n",
       "      <td>131496</td>\n",
       "      <td>Redcliff</td>\n",
       "      <td>1957</td>\n",
       "      <td>MI</td>\n",
       "      <td>Midlands Province</td>\n",
       "      <td>247</td>\n",
       "      <td>ZW</td>\n",
       "      <td>Zimbabwe</td>\n",
       "      <td>-19.03333</td>\n",
       "      <td>29.78333</td>\n",
       "      <td>Q584001</td>\n",
       "    </tr>\n",
       "    <tr>\n",
       "      <th>150450</th>\n",
       "      <td>131502</td>\n",
       "      <td>Shangani</td>\n",
       "      <td>1957</td>\n",
       "      <td>MI</td>\n",
       "      <td>Midlands Province</td>\n",
       "      <td>247</td>\n",
       "      <td>ZW</td>\n",
       "      <td>Zimbabwe</td>\n",
       "      <td>-19.78333</td>\n",
       "      <td>29.36667</td>\n",
       "      <td>Q32017959</td>\n",
       "    </tr>\n",
       "    <tr>\n",
       "      <th>150451</th>\n",
       "      <td>131503</td>\n",
       "      <td>Shurugwi</td>\n",
       "      <td>1957</td>\n",
       "      <td>MI</td>\n",
       "      <td>Midlands Province</td>\n",
       "      <td>247</td>\n",
       "      <td>ZW</td>\n",
       "      <td>Zimbabwe</td>\n",
       "      <td>-19.67016</td>\n",
       "      <td>30.00589</td>\n",
       "      <td>Q32019023</td>\n",
       "    </tr>\n",
       "    <tr>\n",
       "      <th>150452</th>\n",
       "      <td>131504</td>\n",
       "      <td>Shurugwi District</td>\n",
       "      <td>1957</td>\n",
       "      <td>MI</td>\n",
       "      <td>Midlands Province</td>\n",
       "      <td>247</td>\n",
       "      <td>ZW</td>\n",
       "      <td>Zimbabwe</td>\n",
       "      <td>-19.75000</td>\n",
       "      <td>30.16667</td>\n",
       "      <td>Q7505444</td>\n",
       "    </tr>\n",
       "    <tr>\n",
       "      <th>150453</th>\n",
       "      <td>131508</td>\n",
       "      <td>Zvishavane District</td>\n",
       "      <td>1957</td>\n",
       "      <td>MI</td>\n",
       "      <td>Midlands Province</td>\n",
       "      <td>247</td>\n",
       "      <td>ZW</td>\n",
       "      <td>Zimbabwe</td>\n",
       "      <td>-20.30345</td>\n",
       "      <td>30.07514</td>\n",
       "      <td>Q24235929</td>\n",
       "    </tr>\n",
       "  </tbody>\n",
       "</table>\n",
       "<p>150454 rows × 11 columns</p>\n",
       "</div>"
      ],
      "text/plain": [
       "            id                 name  state_id state_code         state_name  \\\n",
       "0           52            Ashkāsham      3901        BDS         Badakhshan   \n",
       "1           68             Fayzabad      3901        BDS         Badakhshan   \n",
       "2           78                 Jurm      3901        BDS         Badakhshan   \n",
       "3           84              Khandūd      3901        BDS         Badakhshan   \n",
       "4          115            Rāghistān      3901        BDS         Badakhshan   \n",
       "...        ...                  ...       ...        ...                ...   \n",
       "150449  131496             Redcliff      1957         MI  Midlands Province   \n",
       "150450  131502             Shangani      1957         MI  Midlands Province   \n",
       "150451  131503             Shurugwi      1957         MI  Midlands Province   \n",
       "150452  131504    Shurugwi District      1957         MI  Midlands Province   \n",
       "150453  131508  Zvishavane District      1957         MI  Midlands Province   \n",
       "\n",
       "        country_id country_code country_name  latitude  longitude wikiDataId  \n",
       "0                1           AF  Afghanistan  36.68333   71.53333   Q4805192  \n",
       "1                1           AF  Afghanistan  37.11664   70.58002    Q156558  \n",
       "2                1           AF  Afghanistan  36.86477   70.83421  Q10308323  \n",
       "3                1           AF  Afghanistan  36.95127   72.31800   Q3290334  \n",
       "4                1           AF  Afghanistan  37.66079   70.67346   Q2670909  \n",
       "...            ...          ...          ...       ...        ...        ...  \n",
       "150449         247           ZW     Zimbabwe -19.03333   29.78333    Q584001  \n",
       "150450         247           ZW     Zimbabwe -19.78333   29.36667  Q32017959  \n",
       "150451         247           ZW     Zimbabwe -19.67016   30.00589  Q32019023  \n",
       "150452         247           ZW     Zimbabwe -19.75000   30.16667   Q7505444  \n",
       "150453         247           ZW     Zimbabwe -20.30345   30.07514  Q24235929  \n",
       "\n",
       "[150454 rows x 11 columns]"
      ]
     },
     "execution_count": 91,
     "metadata": {},
     "output_type": "execute_result"
    }
   ],
   "source": [
    "d=pd.read_csv(r\"E:\\Python Data Science\\Documents\\21_cities.csv\")\n",
    "d"
   ]
  },
  {
   "cell_type": "code",
   "execution_count": 92,
   "id": "4a6773b4",
   "metadata": {},
   "outputs": [
    {
     "name": "stdout",
     "output_type": "stream",
     "text": [
      "<class 'pandas.core.frame.DataFrame'>\n",
      "RangeIndex: 150454 entries, 0 to 150453\n",
      "Data columns (total 11 columns):\n",
      " #   Column        Non-Null Count   Dtype  \n",
      "---  ------        --------------   -----  \n",
      " 0   id            150454 non-null  int64  \n",
      " 1   name          150454 non-null  object \n",
      " 2   state_id      150454 non-null  int64  \n",
      " 3   state_code    150129 non-null  object \n",
      " 4   state_name    150454 non-null  object \n",
      " 5   country_id    150454 non-null  int64  \n",
      " 6   country_code  150406 non-null  object \n",
      " 7   country_name  150454 non-null  object \n",
      " 8   latitude      150454 non-null  float64\n",
      " 9   longitude     150454 non-null  float64\n",
      " 10  wikiDataId    147198 non-null  object \n",
      "dtypes: float64(2), int64(3), object(6)\n",
      "memory usage: 12.6+ MB\n"
     ]
    }
   ],
   "source": [
    "d.info()"
   ]
  },
  {
   "cell_type": "code",
   "execution_count": 93,
   "id": "be134083",
   "metadata": {},
   "outputs": [
    {
     "data": {
      "text/plain": [
       "Index(['id', 'name', 'state_id', 'state_code', 'state_name', 'country_id',\n",
       "       'country_code', 'country_name', 'latitude', 'longitude', 'wikiDataId'],\n",
       "      dtype='object')"
      ]
     },
     "execution_count": 93,
     "metadata": {},
     "output_type": "execute_result"
    }
   ],
   "source": [
    "d.columns"
   ]
  },
  {
   "cell_type": "code",
   "execution_count": 94,
   "id": "3f6041ff",
   "metadata": {},
   "outputs": [],
   "source": [
    "x=d[['id','state_id','country_id', 'latitude', 'longitude']]\n",
    "y=d['country_id']"
   ]
  },
  {
   "cell_type": "code",
   "execution_count": 95,
   "id": "99e2e181",
   "metadata": {},
   "outputs": [],
   "source": [
    "x_train,x_test,y_train,y_test=train_test_split(x,y,test_size=0.3)"
   ]
  },
  {
   "cell_type": "code",
   "execution_count": 96,
   "id": "ea3bf6f5",
   "metadata": {},
   "outputs": [
    {
     "data": {
      "text/plain": [
       "LinearRegression()"
      ]
     },
     "execution_count": 96,
     "metadata": {},
     "output_type": "execute_result"
    }
   ],
   "source": [
    "lr=LinearRegression()\n",
    "lr.fit(x_train,y_train)"
   ]
  },
  {
   "cell_type": "code",
   "execution_count": 97,
   "id": "e983552c",
   "metadata": {},
   "outputs": [
    {
     "name": "stdout",
     "output_type": "stream",
     "text": [
      "-1.3073986337985843e-12\n"
     ]
    }
   ],
   "source": [
    "print(lr.intercept_)"
   ]
  },
  {
   "cell_type": "code",
   "execution_count": 98,
   "id": "bf0de349",
   "metadata": {},
   "outputs": [
    {
     "data": {
      "text/html": [
       "<div>\n",
       "<style scoped>\n",
       "    .dataframe tbody tr th:only-of-type {\n",
       "        vertical-align: middle;\n",
       "    }\n",
       "\n",
       "    .dataframe tbody tr th {\n",
       "        vertical-align: top;\n",
       "    }\n",
       "\n",
       "    .dataframe thead th {\n",
       "        text-align: right;\n",
       "    }\n",
       "</style>\n",
       "<table border=\"1\" class=\"dataframe\">\n",
       "  <thead>\n",
       "    <tr style=\"text-align: right;\">\n",
       "      <th></th>\n",
       "      <th>Co-efficient</th>\n",
       "    </tr>\n",
       "  </thead>\n",
       "  <tbody>\n",
       "    <tr>\n",
       "      <th>id</th>\n",
       "      <td>1.379258e-17</td>\n",
       "    </tr>\n",
       "    <tr>\n",
       "      <th>state_id</th>\n",
       "      <td>5.450213e-17</td>\n",
       "    </tr>\n",
       "    <tr>\n",
       "      <th>country_id</th>\n",
       "      <td>1.000000e+00</td>\n",
       "    </tr>\n",
       "    <tr>\n",
       "      <th>latitude</th>\n",
       "      <td>1.036312e-16</td>\n",
       "    </tr>\n",
       "    <tr>\n",
       "      <th>longitude</th>\n",
       "      <td>7.744319e-16</td>\n",
       "    </tr>\n",
       "  </tbody>\n",
       "</table>\n",
       "</div>"
      ],
      "text/plain": [
       "            Co-efficient\n",
       "id          1.379258e-17\n",
       "state_id    5.450213e-17\n",
       "country_id  1.000000e+00\n",
       "latitude    1.036312e-16\n",
       "longitude   7.744319e-16"
      ]
     },
     "execution_count": 98,
     "metadata": {},
     "output_type": "execute_result"
    }
   ],
   "source": [
    "coeff=pd.DataFrame(lr.coef_,x.columns,columns=['Co-efficient'])\n",
    "coeff"
   ]
  },
  {
   "cell_type": "code",
   "execution_count": 99,
   "id": "e2c159fc",
   "metadata": {},
   "outputs": [
    {
     "data": {
      "text/plain": [
       "<matplotlib.collections.PathCollection at 0x21331441dc0>"
      ]
     },
     "execution_count": 99,
     "metadata": {},
     "output_type": "execute_result"
    },
    {
     "data": {
      "image/png": "[encoded data removed]",
      "text/plain": [
       "<Figure size 432x288 with 1 Axes>"
      ]
     },
     "metadata": {
      "needs_background": "light"
     },
     "output_type": "display_data"
    }
   ],
   "source": [
    "#Predicting\n",
    "\n",
    "prediction=lr.predict(x_test)\n",
    "plt.scatter(y_test,prediction)"
   ]
  },
  {
   "cell_type": "code",
   "execution_count": 100,
   "id": "af1817f1",
   "metadata": {},
   "outputs": [
    {
     "name": "stdout",
     "output_type": "stream",
     "text": [
      "1.0\n"
     ]
    }
   ],
   "source": [
    "# Score\n",
    "print(lr.score(x_test,y_test))"
   ]
  },
  {
   "cell_type": "code",
   "execution_count": 101,
   "id": "d1798e8a",
   "metadata": {},
   "outputs": [
    {
     "data": {
      "text/plain": [
       "Ridge(alpha=10)"
      ]
     },
     "execution_count": 101,
     "metadata": {},
     "output_type": "execute_result"
    }
   ],
   "source": [
    "#Ridge fitting\n",
    "rr=Ridge(alpha=10)\n",
    "rr.fit(x_train,y_train)"
   ]
  },
  {
   "cell_type": "code",
   "execution_count": 102,
   "id": "b0c1c775",
   "metadata": {},
   "outputs": [
    {
     "data": {
      "text/plain": [
       "0.9999999999999993"
      ]
     },
     "execution_count": 102,
     "metadata": {},
     "output_type": "execute_result"
    }
   ],
   "source": [
    "#Ridge Score\n",
    "rr.score(x_test,y_test)"
   ]
  },
  {
   "cell_type": "code",
   "execution_count": 103,
   "id": "a26434ea",
   "metadata": {},
   "outputs": [
    {
     "data": {
      "text/plain": [
       "Lasso(alpha=10)"
      ]
     },
     "execution_count": 103,
     "metadata": {},
     "output_type": "execute_result"
    }
   ],
   "source": [
    "# Lasso Fitting\n",
    "la=Lasso(alpha=10)\n",
    "la.fit(x_train,y_train)"
   ]
  },
  {
   "cell_type": "code",
   "execution_count": 104,
   "id": "7cfa4072",
   "metadata": {},
   "outputs": [
    {
     "data": {
      "text/plain": [
       "0.9999931052297957"
      ]
     },
     "execution_count": 104,
     "metadata": {},
     "output_type": "execute_result"
    }
   ],
   "source": [
    "# Lasso Score\n",
    "la.score(x_test,y_test)"
   ]
  },
  {
   "cell_type": "code",
   "execution_count": 105,
   "id": "c61d964f",
   "metadata": {},
   "outputs": [
    {
     "data": {
      "text/plain": [
       "ElasticNet()"
      ]
     },
     "execution_count": 105,
     "metadata": {},
     "output_type": "execute_result"
    }
   ],
   "source": [
    "# ElasticNet\n",
    "en=ElasticNet()\n",
    "en.fit(x_train,y_train)"
   ]
  },
  {
   "cell_type": "code",
   "execution_count": 106,
   "id": "cf1f6ba6",
   "metadata": {},
   "outputs": [
    {
     "name": "stdout",
     "output_type": "stream",
     "text": [
      "[ 3.41330011e-07 -2.26027893e-06  9.99656382e-01  0.00000000e+00\n",
      " -0.00000000e+00]\n"
     ]
    }
   ],
   "source": [
    "print(en.coef_)"
   ]
  },
  {
   "cell_type": "code",
   "execution_count": 107,
   "id": "9a05d978",
   "metadata": {},
   "outputs": [
    {
     "name": "stdout",
     "output_type": "stream",
     "text": [
      "0.028374039761871472\n"
     ]
    }
   ],
   "source": [
    "print(en.intercept_)"
   ]
  },
  {
   "cell_type": "code",
   "execution_count": 108,
   "id": "019da4b8",
   "metadata": {},
   "outputs": [
    {
     "name": "stdout",
     "output_type": "stream",
     "text": [
      "[142.01715078 204.00093848  31.01829503 ...  48.01255914 206.95833375\n",
      " 108.00426777]\n"
     ]
    }
   ],
   "source": [
    "print(en.predict(x_test))"
   ]
  },
  {
   "cell_type": "code",
   "execution_count": 109,
   "id": "328edec8",
   "metadata": {},
   "outputs": [
    {
     "name": "stdout",
     "output_type": "stream",
     "text": [
      "0.9999999305933207\n"
     ]
    }
   ],
   "source": [
    "print(en.score(x_test,y_test))"
   ]
  },
  {
   "cell_type": "code",
   "execution_count": 110,
   "id": "acc55af7",
   "metadata": {},
   "outputs": [
    {
     "name": "stdout",
     "output_type": "stream",
     "text": [
      "Mean Absolute Error: 5.643150415378383e-13\n"
     ]
    }
   ],
   "source": [
    "print(\"Mean Absolute Error:\",metrics.mean_absolute_error(y_test,prediction))"
   ]
  },
  {
   "cell_type": "code",
   "execution_count": 111,
   "id": "bba19aea",
   "metadata": {},
   "outputs": [
    {
     "name": "stdout",
     "output_type": "stream",
     "text": [
      "Mean Squared Error: 4.233440061229533e-25\n"
     ]
    }
   ],
   "source": [
    "print(\"Mean Squared Error:\",metrics.mean_squared_error(y_test,prediction))"
   ]
  },
  {
   "cell_type": "code",
   "execution_count": 112,
   "id": "f79acdfe",
   "metadata": {},
   "outputs": [
    {
     "name": "stdout",
     "output_type": "stream",
     "text": [
      "Root Mean Squared Error: 6.506489115667169e-13\n"
     ]
    }
   ],
   "source": [
    "print(\"Root Mean Squared Error:\",np.sqrt(metrics.mean_squared_error(y_test,prediction)))"
   ]
  },
  {
   "cell_type": "code",
   "execution_count": 113,
   "id": "d5820725",
   "metadata": {},
   "outputs": [],
   "source": [
    "# Model Saving\n",
    "filename=\"Prediction\"\n",
    "pickle.dump(lr,open(filename,'wb'))"
   ]
  },
  {
   "cell_type": "code",
   "execution_count": 114,
   "id": "402d5590",
   "metadata": {},
   "outputs": [],
   "source": [
    "filename='Prediction'\n",
    "model=pickle.load(open(filename,'rb'))"
   ]
  },
  {
   "cell_type": "code",
   "execution_count": 115,
   "id": "e05d70ba",
   "metadata": {},
   "outputs": [
    {
     "data": {
      "text/plain": [
       "array([15., 23.])"
      ]
     },
     "execution_count": 115,
     "metadata": {},
     "output_type": "execute_result"
    }
   ],
   "source": [
    "real=[[10,30,15,45,48],[11,43,23,56,89]]\n",
    "result=model.predict(real)\n",
    "result"
   ]
  },
  {
   "cell_type": "markdown",
   "id": "f6b94e0f",
   "metadata": {},
   "source": [
    "# DataSet Countries(22)"
   ]
  },
  {
   "cell_type": "code",
   "execution_count": 116,
   "id": "d44dec5a",
   "metadata": {},
   "outputs": [
    {
     "data": {
      "text/html": [
       "<div>\n",
       "<style scoped>\n",
       "    .dataframe tbody tr th:only-of-type {\n",
       "        vertical-align: middle;\n",
       "    }\n",
       "\n",
       "    .dataframe tbody tr th {\n",
       "        vertical-align: top;\n",
       "    }\n",
       "\n",
       "    .dataframe thead th {\n",
       "        text-align: right;\n",
       "    }\n",
       "</style>\n",
       "<table border=\"1\" class=\"dataframe\">\n",
       "  <thead>\n",
       "    <tr style=\"text-align: right;\">\n",
       "      <th></th>\n",
       "      <th>id</th>\n",
       "      <th>name</th>\n",
       "      <th>iso3</th>\n",
       "      <th>iso2</th>\n",
       "      <th>numeric_code</th>\n",
       "      <th>phone_code</th>\n",
       "      <th>capital</th>\n",
       "      <th>currency</th>\n",
       "      <th>currency_name</th>\n",
       "      <th>currency_symbol</th>\n",
       "      <th>tld</th>\n",
       "      <th>native</th>\n",
       "      <th>region</th>\n",
       "      <th>subregion</th>\n",
       "      <th>timezones</th>\n",
       "      <th>latitude</th>\n",
       "      <th>longitude</th>\n",
       "      <th>emoji</th>\n",
       "      <th>emojiU</th>\n",
       "    </tr>\n",
       "  </thead>\n",
       "  <tbody>\n",
       "    <tr>\n",
       "      <th>0</th>\n",
       "      <td>1</td>\n",
       "      <td>Afghanistan</td>\n",
       "      <td>AFG</td>\n",
       "      <td>AF</td>\n",
       "      <td>4</td>\n",
       "      <td>93</td>\n",
       "      <td>Kabul</td>\n",
       "      <td>AFN</td>\n",
       "      <td>Afghan afghani</td>\n",
       "      <td>؋</td>\n",
       "      <td>.af</td>\n",
       "      <td>افغانستان</td>\n",
       "      <td>Asia</td>\n",
       "      <td>Southern Asia</td>\n",
       "      <td>[{zoneName:'Asia\\/Kabul',gmtOffset:16200,gmtOf...</td>\n",
       "      <td>33.000000</td>\n",
       "      <td>65.0</td>\n",
       "      <td>🇦🇫</td>\n",
       "      <td>U+1F1E6 U+1F1EB</td>\n",
       "    </tr>\n",
       "    <tr>\n",
       "      <th>1</th>\n",
       "      <td>2</td>\n",
       "      <td>Aland Islands</td>\n",
       "      <td>ALA</td>\n",
       "      <td>AX</td>\n",
       "      <td>248</td>\n",
       "      <td>+358-18</td>\n",
       "      <td>Mariehamn</td>\n",
       "      <td>EUR</td>\n",
       "      <td>Euro</td>\n",
       "      <td>€</td>\n",
       "      <td>.ax</td>\n",
       "      <td>Åland</td>\n",
       "      <td>Europe</td>\n",
       "      <td>Northern Europe</td>\n",
       "      <td>[{zoneName:'Europe\\/Mariehamn',gmtOffset:7200,...</td>\n",
       "      <td>60.116667</td>\n",
       "      <td>19.9</td>\n",
       "      <td>🇦🇽</td>\n",
       "      <td>U+1F1E6 U+1F1FD</td>\n",
       "    </tr>\n",
       "    <tr>\n",
       "      <th>2</th>\n",
       "      <td>3</td>\n",
       "      <td>Albania</td>\n",
       "      <td>ALB</td>\n",
       "      <td>AL</td>\n",
       "      <td>8</td>\n",
       "      <td>355</td>\n",
       "      <td>Tirana</td>\n",
       "      <td>ALL</td>\n",
       "      <td>Albanian lek</td>\n",
       "      <td>Lek</td>\n",
       "      <td>.al</td>\n",
       "      <td>Shqipëria</td>\n",
       "      <td>Europe</td>\n",
       "      <td>Southern Europe</td>\n",
       "      <td>[{zoneName:'Europe\\/Tirane',gmtOffset:3600,gmt...</td>\n",
       "      <td>41.000000</td>\n",
       "      <td>20.0</td>\n",
       "      <td>🇦🇱</td>\n",
       "      <td>U+1F1E6 U+1F1F1</td>\n",
       "    </tr>\n",
       "    <tr>\n",
       "      <th>3</th>\n",
       "      <td>4</td>\n",
       "      <td>Algeria</td>\n",
       "      <td>DZA</td>\n",
       "      <td>DZ</td>\n",
       "      <td>12</td>\n",
       "      <td>213</td>\n",
       "      <td>Algiers</td>\n",
       "      <td>DZD</td>\n",
       "      <td>Algerian dinar</td>\n",
       "      <td>دج</td>\n",
       "      <td>.dz</td>\n",
       "      <td>الجزائر</td>\n",
       "      <td>Africa</td>\n",
       "      <td>Northern Africa</td>\n",
       "      <td>[{zoneName:'Africa\\/Algiers',gmtOffset:3600,gm...</td>\n",
       "      <td>28.000000</td>\n",
       "      <td>3.0</td>\n",
       "      <td>🇩🇿</td>\n",
       "      <td>U+1F1E9 U+1F1FF</td>\n",
       "    </tr>\n",
       "    <tr>\n",
       "      <th>4</th>\n",
       "      <td>5</td>\n",
       "      <td>American Samoa</td>\n",
       "      <td>ASM</td>\n",
       "      <td>AS</td>\n",
       "      <td>16</td>\n",
       "      <td>+1-684</td>\n",
       "      <td>Pago Pago</td>\n",
       "      <td>USD</td>\n",
       "      <td>US Dollar</td>\n",
       "      <td>$</td>\n",
       "      <td>.as</td>\n",
       "      <td>American Samoa</td>\n",
       "      <td>Oceania</td>\n",
       "      <td>Polynesia</td>\n",
       "      <td>[{zoneName:'Pacific\\/Pago_Pago',gmtOffset:-396...</td>\n",
       "      <td>-14.333333</td>\n",
       "      <td>-170.0</td>\n",
       "      <td>🇦🇸</td>\n",
       "      <td>U+1F1E6 U+1F1F8</td>\n",
       "    </tr>\n",
       "    <tr>\n",
       "      <th>...</th>\n",
       "      <td>...</td>\n",
       "      <td>...</td>\n",
       "      <td>...</td>\n",
       "      <td>...</td>\n",
       "      <td>...</td>\n",
       "      <td>...</td>\n",
       "      <td>...</td>\n",
       "      <td>...</td>\n",
       "      <td>...</td>\n",
       "      <td>...</td>\n",
       "      <td>...</td>\n",
       "      <td>...</td>\n",
       "      <td>...</td>\n",
       "      <td>...</td>\n",
       "      <td>...</td>\n",
       "      <td>...</td>\n",
       "      <td>...</td>\n",
       "      <td>...</td>\n",
       "      <td>...</td>\n",
       "    </tr>\n",
       "    <tr>\n",
       "      <th>245</th>\n",
       "      <td>243</td>\n",
       "      <td>Wallis And Futuna Islands</td>\n",
       "      <td>WLF</td>\n",
       "      <td>WF</td>\n",
       "      <td>876</td>\n",
       "      <td>681</td>\n",
       "      <td>Mata Utu</td>\n",
       "      <td>XPF</td>\n",
       "      <td>CFP franc</td>\n",
       "      <td>₣</td>\n",
       "      <td>.wf</td>\n",
       "      <td>Wallis et Futuna</td>\n",
       "      <td>Oceania</td>\n",
       "      <td>Polynesia</td>\n",
       "      <td>[{zoneName:'Pacific\\/Wallis',gmtOffset:43200,g...</td>\n",
       "      <td>-13.300000</td>\n",
       "      <td>-176.2</td>\n",
       "      <td>🇼🇫</td>\n",
       "      <td>U+1F1FC U+1F1EB</td>\n",
       "    </tr>\n",
       "    <tr>\n",
       "      <th>246</th>\n",
       "      <td>244</td>\n",
       "      <td>Western Sahara</td>\n",
       "      <td>ESH</td>\n",
       "      <td>EH</td>\n",
       "      <td>732</td>\n",
       "      <td>212</td>\n",
       "      <td>El-Aaiun</td>\n",
       "      <td>MAD</td>\n",
       "      <td>Moroccan Dirham</td>\n",
       "      <td>MAD</td>\n",
       "      <td>.eh</td>\n",
       "      <td>الصحراء الغربية</td>\n",
       "      <td>Africa</td>\n",
       "      <td>Northern Africa</td>\n",
       "      <td>[{zoneName:'Africa\\/El_Aaiun',gmtOffset:3600,g...</td>\n",
       "      <td>24.500000</td>\n",
       "      <td>-13.0</td>\n",
       "      <td>🇪🇭</td>\n",
       "      <td>U+1F1EA U+1F1ED</td>\n",
       "    </tr>\n",
       "    <tr>\n",
       "      <th>247</th>\n",
       "      <td>245</td>\n",
       "      <td>Yemen</td>\n",
       "      <td>YEM</td>\n",
       "      <td>YE</td>\n",
       "      <td>887</td>\n",
       "      <td>967</td>\n",
       "      <td>Sanaa</td>\n",
       "      <td>YER</td>\n",
       "      <td>Yemeni rial</td>\n",
       "      <td>﷼</td>\n",
       "      <td>.ye</td>\n",
       "      <td>اليَمَن</td>\n",
       "      <td>Asia</td>\n",
       "      <td>Western Asia</td>\n",
       "      <td>[{zoneName:'Asia\\/Aden',gmtOffset:10800,gmtOff...</td>\n",
       "      <td>15.000000</td>\n",
       "      <td>48.0</td>\n",
       "      <td>🇾🇪</td>\n",
       "      <td>U+1F1FE U+1F1EA</td>\n",
       "    </tr>\n",
       "    <tr>\n",
       "      <th>248</th>\n",
       "      <td>246</td>\n",
       "      <td>Zambia</td>\n",
       "      <td>ZMB</td>\n",
       "      <td>ZM</td>\n",
       "      <td>894</td>\n",
       "      <td>260</td>\n",
       "      <td>Lusaka</td>\n",
       "      <td>ZMW</td>\n",
       "      <td>Zambian kwacha</td>\n",
       "      <td>ZK</td>\n",
       "      <td>.zm</td>\n",
       "      <td>Zambia</td>\n",
       "      <td>Africa</td>\n",
       "      <td>Eastern Africa</td>\n",
       "      <td>[{zoneName:'Africa\\/Lusaka',gmtOffset:7200,gmt...</td>\n",
       "      <td>-15.000000</td>\n",
       "      <td>30.0</td>\n",
       "      <td>🇿🇲</td>\n",
       "      <td>U+1F1FF U+1F1F2</td>\n",
       "    </tr>\n",
       "    <tr>\n",
       "      <th>249</th>\n",
       "      <td>247</td>\n",
       "      <td>Zimbabwe</td>\n",
       "      <td>ZWE</td>\n",
       "      <td>ZW</td>\n",
       "      <td>716</td>\n",
       "      <td>263</td>\n",
       "      <td>Harare</td>\n",
       "      <td>ZWL</td>\n",
       "      <td>Zimbabwe Dollar</td>\n",
       "      <td>$</td>\n",
       "      <td>.zw</td>\n",
       "      <td>Zimbabwe</td>\n",
       "      <td>Africa</td>\n",
       "      <td>Eastern Africa</td>\n",
       "      <td>[{zoneName:'Africa\\/Harare',gmtOffset:7200,gmt...</td>\n",
       "      <td>-20.000000</td>\n",
       "      <td>30.0</td>\n",
       "      <td>🇿🇼</td>\n",
       "      <td>U+1F1FF U+1F1FC</td>\n",
       "    </tr>\n",
       "  </tbody>\n",
       "</table>\n",
       "<p>250 rows × 19 columns</p>\n",
       "</div>"
      ],
      "text/plain": [
       "      id                       name iso3 iso2  numeric_code phone_code  \\\n",
       "0      1                Afghanistan  AFG   AF             4         93   \n",
       "1      2              Aland Islands  ALA   AX           248    +358-18   \n",
       "2      3                    Albania  ALB   AL             8        355   \n",
       "3      4                    Algeria  DZA   DZ            12        213   \n",
       "4      5             American Samoa  ASM   AS            16     +1-684   \n",
       "..   ...                        ...  ...  ...           ...        ...   \n",
       "245  243  Wallis And Futuna Islands  WLF   WF           876        681   \n",
       "246  244             Western Sahara  ESH   EH           732        212   \n",
       "247  245                      Yemen  YEM   YE           887        967   \n",
       "248  246                     Zambia  ZMB   ZM           894        260   \n",
       "249  247                   Zimbabwe  ZWE   ZW           716        263   \n",
       "\n",
       "       capital currency    currency_name currency_symbol  tld  \\\n",
       "0        Kabul      AFN   Afghan afghani               ؋  .af   \n",
       "1    Mariehamn      EUR             Euro               €  .ax   \n",
       "2       Tirana      ALL     Albanian lek             Lek  .al   \n",
       "3      Algiers      DZD   Algerian dinar              دج  .dz   \n",
       "4    Pago Pago      USD        US Dollar               $  .as   \n",
       "..         ...      ...              ...             ...  ...   \n",
       "245   Mata Utu      XPF        CFP franc               ₣  .wf   \n",
       "246   El-Aaiun      MAD  Moroccan Dirham             MAD  .eh   \n",
       "247      Sanaa      YER      Yemeni rial               ﷼  .ye   \n",
       "248     Lusaka      ZMW   Zambian kwacha              ZK  .zm   \n",
       "249     Harare      ZWL  Zimbabwe Dollar               $  .zw   \n",
       "\n",
       "               native   region        subregion  \\\n",
       "0           افغانستان     Asia    Southern Asia   \n",
       "1               Åland   Europe  Northern Europe   \n",
       "2           Shqipëria   Europe  Southern Europe   \n",
       "3             الجزائر   Africa  Northern Africa   \n",
       "4      American Samoa  Oceania        Polynesia   \n",
       "..                ...      ...              ...   \n",
       "245  Wallis et Futuna  Oceania        Polynesia   \n",
       "246   الصحراء الغربية   Africa  Northern Africa   \n",
       "247           اليَمَن     Asia     Western Asia   \n",
       "248            Zambia   Africa   Eastern Africa   \n",
       "249          Zimbabwe   Africa   Eastern Africa   \n",
       "\n",
       "                                             timezones   latitude  longitude  \\\n",
       "0    [{zoneName:'Asia\\/Kabul',gmtOffset:16200,gmtOf...  33.000000       65.0   \n",
       "1    [{zoneName:'Europe\\/Mariehamn',gmtOffset:7200,...  60.116667       19.9   \n",
       "2    [{zoneName:'Europe\\/Tirane',gmtOffset:3600,gmt...  41.000000       20.0   \n",
       "3    [{zoneName:'Africa\\/Algiers',gmtOffset:3600,gm...  28.000000        3.0   \n",
       "4    [{zoneName:'Pacific\\/Pago_Pago',gmtOffset:-396... -14.333333     -170.0   \n",
       "..                                                 ...        ...        ...   \n",
       "245  [{zoneName:'Pacific\\/Wallis',gmtOffset:43200,g... -13.300000     -176.2   \n",
       "246  [{zoneName:'Africa\\/El_Aaiun',gmtOffset:3600,g...  24.500000      -13.0   \n",
       "247  [{zoneName:'Asia\\/Aden',gmtOffset:10800,gmtOff...  15.000000       48.0   \n",
       "248  [{zoneName:'Africa\\/Lusaka',gmtOffset:7200,gmt... -15.000000       30.0   \n",
       "249  [{zoneName:'Africa\\/Harare',gmtOffset:7200,gmt... -20.000000       30.0   \n",
       "\n",
       "    emoji           emojiU  \n",
       "0      🇦🇫  U+1F1E6 U+1F1EB  \n",
       "1      🇦🇽  U+1F1E6 U+1F1FD  \n",
       "2      🇦🇱  U+1F1E6 U+1F1F1  \n",
       "3      🇩🇿  U+1F1E9 U+1F1FF  \n",
       "4      🇦🇸  U+1F1E6 U+1F1F8  \n",
       "..    ...              ...  \n",
       "245    🇼🇫  U+1F1FC U+1F1EB  \n",
       "246    🇪🇭  U+1F1EA U+1F1ED  \n",
       "247    🇾🇪  U+1F1FE U+1F1EA  \n",
       "248    🇿🇲  U+1F1FF U+1F1F2  \n",
       "249    🇿🇼  U+1F1FF U+1F1FC  \n",
       "\n",
       "[250 rows x 19 columns]"
      ]
     },
     "execution_count": 116,
     "metadata": {},
     "output_type": "execute_result"
    }
   ],
   "source": [
    "e=pd.read_csv(R\"E:\\Python Data Science\\Documents\\22_countries.csv\")\n",
    "e"
   ]
  },
  {
   "cell_type": "code",
   "execution_count": 117,
   "id": "446ed52a",
   "metadata": {},
   "outputs": [
    {
     "name": "stdout",
     "output_type": "stream",
     "text": [
      "<class 'pandas.core.frame.DataFrame'>\n",
      "RangeIndex: 250 entries, 0 to 249\n",
      "Data columns (total 19 columns):\n",
      " #   Column           Non-Null Count  Dtype  \n",
      "---  ------           --------------  -----  \n",
      " 0   id               250 non-null    int64  \n",
      " 1   name             250 non-null    object \n",
      " 2   iso3             250 non-null    object \n",
      " 3   iso2             249 non-null    object \n",
      " 4   numeric_code     250 non-null    int64  \n",
      " 5   phone_code       250 non-null    object \n",
      " 6   capital          245 non-null    object \n",
      " 7   currency         250 non-null    object \n",
      " 8   currency_name    250 non-null    object \n",
      " 9   currency_symbol  250 non-null    object \n",
      " 10  tld              250 non-null    object \n",
      " 11  native           249 non-null    object \n",
      " 12  region           248 non-null    object \n",
      " 13  subregion        247 non-null    object \n",
      " 14  timezones        250 non-null    object \n",
      " 15  latitude         250 non-null    float64\n",
      " 16  longitude        250 non-null    float64\n",
      " 17  emoji            250 non-null    object \n",
      " 18  emojiU           250 non-null    object \n",
      "dtypes: float64(2), int64(2), object(15)\n",
      "memory usage: 37.2+ KB\n"
     ]
    }
   ],
   "source": [
    "e.info()"
   ]
  },
  {
   "cell_type": "code",
   "execution_count": 119,
   "id": "085be5ee",
   "metadata": {},
   "outputs": [
    {
     "data": {
      "text/html": [
       "<div>\n",
       "<style scoped>\n",
       "    .dataframe tbody tr th:only-of-type {\n",
       "        vertical-align: middle;\n",
       "    }\n",
       "\n",
       "    .dataframe tbody tr th {\n",
       "        vertical-align: top;\n",
       "    }\n",
       "\n",
       "    .dataframe thead th {\n",
       "        text-align: right;\n",
       "    }\n",
       "</style>\n",
       "<table border=\"1\" class=\"dataframe\">\n",
       "  <thead>\n",
       "    <tr style=\"text-align: right;\">\n",
       "      <th></th>\n",
       "      <th>id</th>\n",
       "      <th>name</th>\n",
       "      <th>iso3</th>\n",
       "      <th>iso2</th>\n",
       "      <th>numeric_code</th>\n",
       "      <th>phone_code</th>\n",
       "      <th>capital</th>\n",
       "      <th>currency</th>\n",
       "      <th>currency_name</th>\n",
       "      <th>currency_symbol</th>\n",
       "      <th>tld</th>\n",
       "      <th>native</th>\n",
       "      <th>region</th>\n",
       "      <th>subregion</th>\n",
       "      <th>timezones</th>\n",
       "      <th>latitude</th>\n",
       "      <th>longitude</th>\n",
       "      <th>emoji</th>\n",
       "      <th>emojiU</th>\n",
       "    </tr>\n",
       "  </thead>\n",
       "  <tbody>\n",
       "    <tr>\n",
       "      <th>0</th>\n",
       "      <td>1</td>\n",
       "      <td>Afghanistan</td>\n",
       "      <td>AFG</td>\n",
       "      <td>AF</td>\n",
       "      <td>4</td>\n",
       "      <td>93</td>\n",
       "      <td>Kabul</td>\n",
       "      <td>AFN</td>\n",
       "      <td>Afghan afghani</td>\n",
       "      <td>؋</td>\n",
       "      <td>.af</td>\n",
       "      <td>افغانستان</td>\n",
       "      <td>Asia</td>\n",
       "      <td>Southern Asia</td>\n",
       "      <td>[{zoneName:'Asia\\/Kabul',gmtOffset:16200,gmtOf...</td>\n",
       "      <td>33.000000</td>\n",
       "      <td>65.0</td>\n",
       "      <td>🇦🇫</td>\n",
       "      <td>U+1F1E6 U+1F1EB</td>\n",
       "    </tr>\n",
       "    <tr>\n",
       "      <th>1</th>\n",
       "      <td>2</td>\n",
       "      <td>Aland Islands</td>\n",
       "      <td>ALA</td>\n",
       "      <td>AX</td>\n",
       "      <td>248</td>\n",
       "      <td>+358-18</td>\n",
       "      <td>Mariehamn</td>\n",
       "      <td>EUR</td>\n",
       "      <td>Euro</td>\n",
       "      <td>€</td>\n",
       "      <td>.ax</td>\n",
       "      <td>Åland</td>\n",
       "      <td>Europe</td>\n",
       "      <td>Northern Europe</td>\n",
       "      <td>[{zoneName:'Europe\\/Mariehamn',gmtOffset:7200,...</td>\n",
       "      <td>60.116667</td>\n",
       "      <td>19.9</td>\n",
       "      <td>🇦🇽</td>\n",
       "      <td>U+1F1E6 U+1F1FD</td>\n",
       "    </tr>\n",
       "    <tr>\n",
       "      <th>2</th>\n",
       "      <td>3</td>\n",
       "      <td>Albania</td>\n",
       "      <td>ALB</td>\n",
       "      <td>AL</td>\n",
       "      <td>8</td>\n",
       "      <td>355</td>\n",
       "      <td>Tirana</td>\n",
       "      <td>ALL</td>\n",
       "      <td>Albanian lek</td>\n",
       "      <td>Lek</td>\n",
       "      <td>.al</td>\n",
       "      <td>Shqipëria</td>\n",
       "      <td>Europe</td>\n",
       "      <td>Southern Europe</td>\n",
       "      <td>[{zoneName:'Europe\\/Tirane',gmtOffset:3600,gmt...</td>\n",
       "      <td>41.000000</td>\n",
       "      <td>20.0</td>\n",
       "      <td>🇦🇱</td>\n",
       "      <td>U+1F1E6 U+1F1F1</td>\n",
       "    </tr>\n",
       "    <tr>\n",
       "      <th>3</th>\n",
       "      <td>4</td>\n",
       "      <td>Algeria</td>\n",
       "      <td>DZA</td>\n",
       "      <td>DZ</td>\n",
       "      <td>12</td>\n",
       "      <td>213</td>\n",
       "      <td>Algiers</td>\n",
       "      <td>DZD</td>\n",
       "      <td>Algerian dinar</td>\n",
       "      <td>دج</td>\n",
       "      <td>.dz</td>\n",
       "      <td>الجزائر</td>\n",
       "      <td>Africa</td>\n",
       "      <td>Northern Africa</td>\n",
       "      <td>[{zoneName:'Africa\\/Algiers',gmtOffset:3600,gm...</td>\n",
       "      <td>28.000000</td>\n",
       "      <td>3.0</td>\n",
       "      <td>🇩🇿</td>\n",
       "      <td>U+1F1E9 U+1F1FF</td>\n",
       "    </tr>\n",
       "    <tr>\n",
       "      <th>4</th>\n",
       "      <td>5</td>\n",
       "      <td>American Samoa</td>\n",
       "      <td>ASM</td>\n",
       "      <td>AS</td>\n",
       "      <td>16</td>\n",
       "      <td>+1-684</td>\n",
       "      <td>Pago Pago</td>\n",
       "      <td>USD</td>\n",
       "      <td>US Dollar</td>\n",
       "      <td>$</td>\n",
       "      <td>.as</td>\n",
       "      <td>American Samoa</td>\n",
       "      <td>Oceania</td>\n",
       "      <td>Polynesia</td>\n",
       "      <td>[{zoneName:'Pacific\\/Pago_Pago',gmtOffset:-396...</td>\n",
       "      <td>-14.333333</td>\n",
       "      <td>-170.0</td>\n",
       "      <td>🇦🇸</td>\n",
       "      <td>U+1F1E6 U+1F1F8</td>\n",
       "    </tr>\n",
       "    <tr>\n",
       "      <th>...</th>\n",
       "      <td>...</td>\n",
       "      <td>...</td>\n",
       "      <td>...</td>\n",
       "      <td>...</td>\n",
       "      <td>...</td>\n",
       "      <td>...</td>\n",
       "      <td>...</td>\n",
       "      <td>...</td>\n",
       "      <td>...</td>\n",
       "      <td>...</td>\n",
       "      <td>...</td>\n",
       "      <td>...</td>\n",
       "      <td>...</td>\n",
       "      <td>...</td>\n",
       "      <td>...</td>\n",
       "      <td>...</td>\n",
       "      <td>...</td>\n",
       "      <td>...</td>\n",
       "      <td>...</td>\n",
       "    </tr>\n",
       "    <tr>\n",
       "      <th>245</th>\n",
       "      <td>243</td>\n",
       "      <td>Wallis And Futuna Islands</td>\n",
       "      <td>WLF</td>\n",
       "      <td>WF</td>\n",
       "      <td>876</td>\n",
       "      <td>681</td>\n",
       "      <td>Mata Utu</td>\n",
       "      <td>XPF</td>\n",
       "      <td>CFP franc</td>\n",
       "      <td>₣</td>\n",
       "      <td>.wf</td>\n",
       "      <td>Wallis et Futuna</td>\n",
       "      <td>Oceania</td>\n",
       "      <td>Polynesia</td>\n",
       "      <td>[{zoneName:'Pacific\\/Wallis',gmtOffset:43200,g...</td>\n",
       "      <td>-13.300000</td>\n",
       "      <td>-176.2</td>\n",
       "      <td>🇼🇫</td>\n",
       "      <td>U+1F1FC U+1F1EB</td>\n",
       "    </tr>\n",
       "    <tr>\n",
       "      <th>246</th>\n",
       "      <td>244</td>\n",
       "      <td>Western Sahara</td>\n",
       "      <td>ESH</td>\n",
       "      <td>EH</td>\n",
       "      <td>732</td>\n",
       "      <td>212</td>\n",
       "      <td>El-Aaiun</td>\n",
       "      <td>MAD</td>\n",
       "      <td>Moroccan Dirham</td>\n",
       "      <td>MAD</td>\n",
       "      <td>.eh</td>\n",
       "      <td>الصحراء الغربية</td>\n",
       "      <td>Africa</td>\n",
       "      <td>Northern Africa</td>\n",
       "      <td>[{zoneName:'Africa\\/El_Aaiun',gmtOffset:3600,g...</td>\n",
       "      <td>24.500000</td>\n",
       "      <td>-13.0</td>\n",
       "      <td>🇪🇭</td>\n",
       "      <td>U+1F1EA U+1F1ED</td>\n",
       "    </tr>\n",
       "    <tr>\n",
       "      <th>247</th>\n",
       "      <td>245</td>\n",
       "      <td>Yemen</td>\n",
       "      <td>YEM</td>\n",
       "      <td>YE</td>\n",
       "      <td>887</td>\n",
       "      <td>967</td>\n",
       "      <td>Sanaa</td>\n",
       "      <td>YER</td>\n",
       "      <td>Yemeni rial</td>\n",
       "      <td>﷼</td>\n",
       "      <td>.ye</td>\n",
       "      <td>اليَمَن</td>\n",
       "      <td>Asia</td>\n",
       "      <td>Western Asia</td>\n",
       "      <td>[{zoneName:'Asia\\/Aden',gmtOffset:10800,gmtOff...</td>\n",
       "      <td>15.000000</td>\n",
       "      <td>48.0</td>\n",
       "      <td>🇾🇪</td>\n",
       "      <td>U+1F1FE U+1F1EA</td>\n",
       "    </tr>\n",
       "    <tr>\n",
       "      <th>248</th>\n",
       "      <td>246</td>\n",
       "      <td>Zambia</td>\n",
       "      <td>ZMB</td>\n",
       "      <td>ZM</td>\n",
       "      <td>894</td>\n",
       "      <td>260</td>\n",
       "      <td>Lusaka</td>\n",
       "      <td>ZMW</td>\n",
       "      <td>Zambian kwacha</td>\n",
       "      <td>ZK</td>\n",
       "      <td>.zm</td>\n",
       "      <td>Zambia</td>\n",
       "      <td>Africa</td>\n",
       "      <td>Eastern Africa</td>\n",
       "      <td>[{zoneName:'Africa\\/Lusaka',gmtOffset:7200,gmt...</td>\n",
       "      <td>-15.000000</td>\n",
       "      <td>30.0</td>\n",
       "      <td>🇿🇲</td>\n",
       "      <td>U+1F1FF U+1F1F2</td>\n",
       "    </tr>\n",
       "    <tr>\n",
       "      <th>249</th>\n",
       "      <td>247</td>\n",
       "      <td>Zimbabwe</td>\n",
       "      <td>ZWE</td>\n",
       "      <td>ZW</td>\n",
       "      <td>716</td>\n",
       "      <td>263</td>\n",
       "      <td>Harare</td>\n",
       "      <td>ZWL</td>\n",
       "      <td>Zimbabwe Dollar</td>\n",
       "      <td>$</td>\n",
       "      <td>.zw</td>\n",
       "      <td>Zimbabwe</td>\n",
       "      <td>Africa</td>\n",
       "      <td>Eastern Africa</td>\n",
       "      <td>[{zoneName:'Africa\\/Harare',gmtOffset:7200,gmt...</td>\n",
       "      <td>-20.000000</td>\n",
       "      <td>30.0</td>\n",
       "      <td>🇿🇼</td>\n",
       "      <td>U+1F1FF U+1F1FC</td>\n",
       "    </tr>\n",
       "  </tbody>\n",
       "</table>\n",
       "<p>250 rows × 19 columns</p>\n",
       "</div>"
      ],
      "text/plain": [
       "      id                       name iso3 iso2  numeric_code phone_code  \\\n",
       "0      1                Afghanistan  AFG   AF             4         93   \n",
       "1      2              Aland Islands  ALA   AX           248    +358-18   \n",
       "2      3                    Albania  ALB   AL             8        355   \n",
       "3      4                    Algeria  DZA   DZ            12        213   \n",
       "4      5             American Samoa  ASM   AS            16     +1-684   \n",
       "..   ...                        ...  ...  ...           ...        ...   \n",
       "245  243  Wallis And Futuna Islands  WLF   WF           876        681   \n",
       "246  244             Western Sahara  ESH   EH           732        212   \n",
       "247  245                      Yemen  YEM   YE           887        967   \n",
       "248  246                     Zambia  ZMB   ZM           894        260   \n",
       "249  247                   Zimbabwe  ZWE   ZW           716        263   \n",
       "\n",
       "       capital currency    currency_name currency_symbol  tld  \\\n",
       "0        Kabul      AFN   Afghan afghani               ؋  .af   \n",
       "1    Mariehamn      EUR             Euro               €  .ax   \n",
       "2       Tirana      ALL     Albanian lek             Lek  .al   \n",
       "3      Algiers      DZD   Algerian dinar              دج  .dz   \n",
       "4    Pago Pago      USD        US Dollar               $  .as   \n",
       "..         ...      ...              ...             ...  ...   \n",
       "245   Mata Utu      XPF        CFP franc               ₣  .wf   \n",
       "246   El-Aaiun      MAD  Moroccan Dirham             MAD  .eh   \n",
       "247      Sanaa      YER      Yemeni rial               ﷼  .ye   \n",
       "248     Lusaka      ZMW   Zambian kwacha              ZK  .zm   \n",
       "249     Harare      ZWL  Zimbabwe Dollar               $  .zw   \n",
       "\n",
       "               native   region        subregion  \\\n",
       "0           افغانستان     Asia    Southern Asia   \n",
       "1               Åland   Europe  Northern Europe   \n",
       "2           Shqipëria   Europe  Southern Europe   \n",
       "3             الجزائر   Africa  Northern Africa   \n",
       "4      American Samoa  Oceania        Polynesia   \n",
       "..                ...      ...              ...   \n",
       "245  Wallis et Futuna  Oceania        Polynesia   \n",
       "246   الصحراء الغربية   Africa  Northern Africa   \n",
       "247           اليَمَن     Asia     Western Asia   \n",
       "248            Zambia   Africa   Eastern Africa   \n",
       "249          Zimbabwe   Africa   Eastern Africa   \n",
       "\n",
       "                                             timezones   latitude  longitude  \\\n",
       "0    [{zoneName:'Asia\\/Kabul',gmtOffset:16200,gmtOf...  33.000000       65.0   \n",
       "1    [{zoneName:'Europe\\/Mariehamn',gmtOffset:7200,...  60.116667       19.9   \n",
       "2    [{zoneName:'Europe\\/Tirane',gmtOffset:3600,gmt...  41.000000       20.0   \n",
       "3    [{zoneName:'Africa\\/Algiers',gmtOffset:3600,gm...  28.000000        3.0   \n",
       "4    [{zoneName:'Pacific\\/Pago_Pago',gmtOffset:-396... -14.333333     -170.0   \n",
       "..                                                 ...        ...        ...   \n",
       "245  [{zoneName:'Pacific\\/Wallis',gmtOffset:43200,g... -13.300000     -176.2   \n",
       "246  [{zoneName:'Africa\\/El_Aaiun',gmtOffset:3600,g...  24.500000      -13.0   \n",
       "247  [{zoneName:'Asia\\/Aden',gmtOffset:10800,gmtOff...  15.000000       48.0   \n",
       "248  [{zoneName:'Africa\\/Lusaka',gmtOffset:7200,gmt... -15.000000       30.0   \n",
       "249  [{zoneName:'Africa\\/Harare',gmtOffset:7200,gmt... -20.000000       30.0   \n",
       "\n",
       "    emoji           emojiU  \n",
       "0      🇦🇫  U+1F1E6 U+1F1EB  \n",
       "1      🇦🇽  U+1F1E6 U+1F1FD  \n",
       "2      🇦🇱  U+1F1E6 U+1F1F1  \n",
       "3      🇩🇿  U+1F1E9 U+1F1FF  \n",
       "4      🇦🇸  U+1F1E6 U+1F1F8  \n",
       "..    ...              ...  \n",
       "245    🇼🇫  U+1F1FC U+1F1EB  \n",
       "246    🇪🇭  U+1F1EA U+1F1ED  \n",
       "247    🇾🇪  U+1F1FE U+1F1EA  \n",
       "248    🇿🇲  U+1F1FF U+1F1F2  \n",
       "249    🇿🇼  U+1F1FF U+1F1FC  \n",
       "\n",
       "[250 rows x 19 columns]"
      ]
     },
     "execution_count": 119,
     "metadata": {},
     "output_type": "execute_result"
    }
   ],
   "source": [
    "f=e.fillna(value=65)\n",
    "f"
   ]
  },
  {
   "cell_type": "code",
   "execution_count": 120,
   "id": "f36529f8",
   "metadata": {},
   "outputs": [
    {
     "data": {
      "text/plain": [
       "Index(['id', 'name', 'iso3', 'iso2', 'numeric_code', 'phone_code', 'capital',\n",
       "       'currency', 'currency_name', 'currency_symbol', 'tld', 'native',\n",
       "       'region', 'subregion', 'timezones', 'latitude', 'longitude', 'emoji',\n",
       "       'emojiU'],\n",
       "      dtype='object')"
      ]
     },
     "execution_count": 120,
     "metadata": {},
     "output_type": "execute_result"
    }
   ],
   "source": [
    "f.columns"
   ]
  },
  {
   "cell_type": "code",
   "execution_count": 124,
   "id": "7e203d11",
   "metadata": {},
   "outputs": [],
   "source": [
    "x=f[['id', 'numeric_code','latitude', 'longitude']]\n",
    "y=f['numeric_code']"
   ]
  },
  {
   "cell_type": "code",
   "execution_count": 125,
   "id": "db3e5332",
   "metadata": {},
   "outputs": [],
   "source": [
    "x_train,x_test,y_train,y_test=train_test_split(x,y,test_size=0.3)"
   ]
  },
  {
   "cell_type": "code",
   "execution_count": 126,
   "id": "881b970b",
   "metadata": {},
   "outputs": [
    {
     "data": {
      "text/plain": [
       "LinearRegression()"
      ]
     },
     "execution_count": 126,
     "metadata": {},
     "output_type": "execute_result"
    }
   ],
   "source": [
    "lr=LinearRegression()\n",
    "lr.fit(x_train,y_train)"
   ]
  },
  {
   "cell_type": "code",
   "execution_count": 127,
   "id": "e526ed15",
   "metadata": {},
   "outputs": [
    {
     "name": "stdout",
     "output_type": "stream",
     "text": [
      "-3.410605131648481e-13\n"
     ]
    }
   ],
   "source": [
    "print(lr.intercept_)"
   ]
  },
  {
   "cell_type": "code",
   "execution_count": 128,
   "id": "518629f6",
   "metadata": {},
   "outputs": [
    {
     "data": {
      "text/html": [
       "<div>\n",
       "<style scoped>\n",
       "    .dataframe tbody tr th:only-of-type {\n",
       "        vertical-align: middle;\n",
       "    }\n",
       "\n",
       "    .dataframe tbody tr th {\n",
       "        vertical-align: top;\n",
       "    }\n",
       "\n",
       "    .dataframe thead th {\n",
       "        text-align: right;\n",
       "    }\n",
       "</style>\n",
       "<table border=\"1\" class=\"dataframe\">\n",
       "  <thead>\n",
       "    <tr style=\"text-align: right;\">\n",
       "      <th></th>\n",
       "      <th>Co-efficient</th>\n",
       "    </tr>\n",
       "  </thead>\n",
       "  <tbody>\n",
       "    <tr>\n",
       "      <th>id</th>\n",
       "      <td>1.249049e-15</td>\n",
       "    </tr>\n",
       "    <tr>\n",
       "      <th>numeric_code</th>\n",
       "      <td>1.000000e+00</td>\n",
       "    </tr>\n",
       "    <tr>\n",
       "      <th>latitude</th>\n",
       "      <td>-2.218408e-16</td>\n",
       "    </tr>\n",
       "    <tr>\n",
       "      <th>longitude</th>\n",
       "      <td>-4.924645e-17</td>\n",
       "    </tr>\n",
       "  </tbody>\n",
       "</table>\n",
       "</div>"
      ],
      "text/plain": [
       "              Co-efficient\n",
       "id            1.249049e-15\n",
       "numeric_code  1.000000e+00\n",
       "latitude     -2.218408e-16\n",
       "longitude    -4.924645e-17"
      ]
     },
     "execution_count": 128,
     "metadata": {},
     "output_type": "execute_result"
    }
   ],
   "source": [
    "coeff=pd.DataFrame(lr.coef_,x.columns,columns=['Co-efficient'])\n",
    "coeff"
   ]
  },
  {
   "cell_type": "code",
   "execution_count": 130,
   "id": "25e74dfd",
   "metadata": {},
   "outputs": [
    {
     "data": {
      "text/plain": [
       "<matplotlib.collections.PathCollection at 0x2133060ab20>"
      ]
     },
     "execution_count": 130,
     "metadata": {},
     "output_type": "execute_result"
    },
    {
     "data": {
      "image/png": "[encoded data removed]",
      "text/plain": [
       "<Figure size 432x288 with 1 Axes>"
      ]
     },
     "metadata": {
      "needs_background": "light"
     },
     "output_type": "display_data"
    }
   ],
   "source": [
    "#Predicting\n",
    "\n",
    "prediction=lr.predict(x_test)\n",
    "plt.scatter(y_test,prediction)"
   ]
  },
  {
   "cell_type": "code",
   "execution_count": 131,
   "id": "70392110",
   "metadata": {},
   "outputs": [
    {
     "name": "stdout",
     "output_type": "stream",
     "text": [
      "1.0\n"
     ]
    }
   ],
   "source": [
    "# Score\n",
    "print(lr.score(x_test,y_test))"
   ]
  },
  {
   "cell_type": "code",
   "execution_count": 132,
   "id": "00798421",
   "metadata": {},
   "outputs": [
    {
     "data": {
      "text/plain": [
       "Ridge(alpha=10)"
      ]
     },
     "execution_count": 132,
     "metadata": {},
     "output_type": "execute_result"
    }
   ],
   "source": [
    "#Ridge fitting\n",
    "rr=Ridge(alpha=10)\n",
    "rr.fit(x_train,y_train)"
   ]
  },
  {
   "cell_type": "code",
   "execution_count": 133,
   "id": "8a09d81f",
   "metadata": {},
   "outputs": [
    {
     "data": {
      "text/plain": [
       "0.9999999999986439"
      ]
     },
     "execution_count": 133,
     "metadata": {},
     "output_type": "execute_result"
    }
   ],
   "source": [
    "#Ridge Score\n",
    "rr.score(x_test,y_test)"
   ]
  },
  {
   "cell_type": "code",
   "execution_count": 134,
   "id": "c5fdeb57",
   "metadata": {},
   "outputs": [
    {
     "data": {
      "text/plain": [
       "Lasso(alpha=10)"
      ]
     },
     "execution_count": 134,
     "metadata": {},
     "output_type": "execute_result"
    }
   ],
   "source": [
    "# Lasso Fitting\n",
    "la=Lasso(alpha=10)\n",
    "la.fit(x_train,y_train)\n"
   ]
  },
  {
   "cell_type": "code",
   "execution_count": 135,
   "id": "219f7d37",
   "metadata": {},
   "outputs": [
    {
     "data": {
      "text/plain": [
       "0.9999999767213269"
      ]
     },
     "execution_count": 135,
     "metadata": {},
     "output_type": "execute_result"
    }
   ],
   "source": [
    "# Lasso Score\n",
    "la.score(x_test,y_test)"
   ]
  },
  {
   "cell_type": "code",
   "execution_count": 136,
   "id": "8469377f",
   "metadata": {},
   "outputs": [
    {
     "data": {
      "text/plain": [
       "ElasticNet()"
      ]
     },
     "execution_count": 136,
     "metadata": {},
     "output_type": "execute_result"
    }
   ],
   "source": [
    "# ElasticNet\n",
    "en=ElasticNet()\n",
    "en.fit(x_train,y_train)"
   ]
  },
  {
   "cell_type": "code",
   "execution_count": 137,
   "id": "fa34fe24",
   "metadata": {},
   "outputs": [
    {
     "name": "stdout",
     "output_type": "stream",
     "text": [
      "[ 0.          0.99998488  0.         -0.        ]\n"
     ]
    }
   ],
   "source": [
    "print(en.coef_)"
   ]
  },
  {
   "cell_type": "code",
   "execution_count": 138,
   "id": "70391554",
   "metadata": {},
   "outputs": [
    {
     "name": "stdout",
     "output_type": "stream",
     "text": [
      "0.006739499929665271\n"
     ]
    }
   ],
   "source": [
    "print(en.intercept_)"
   ]
  },
  {
   "cell_type": "code",
   "execution_count": 139,
   "id": "9d678945",
   "metadata": {},
   "outputs": [
    {
     "name": "stdout",
     "output_type": "stream",
     "text": [
      "[203.00367114  60.0058326  641.99703564 689.99631011 239.003127\n",
      " 580.99795765 100.00522799 582.99792742 849.9938917   68.00571168\n",
      " 473.99957496 270.00265844 258.00283982 124.00486523 803.994587\n",
      " 254.00290028 180.00401879 434.00017957 645.99697518 561.99824484\n",
      " 703.9960985  248.00299097 659.99676356 637.9970961  495.99924243\n",
      " 523.99881921 178.00404902 380.00099578 120.00492569 731.99567528\n",
      " 532.99868318 417.00043652 304.00214452 651.99688449 428.00027026\n",
      "  28.00631628 833.99413355 503.99912151  31.00627093 743.9954939\n",
      " 260.00280959 615.99742863 728.99572063 392.0008144  795.99470792\n",
      " 232.00323281 376.00105624 320.00190268 832.99414866  96.00528845\n",
      " 368.00117716 590.9978065   50.00598375 234.00320258 661.99673333\n",
      " 763.9951916  715.99591712 192.00383741 276.00256775 242.00308166\n",
      " 658.99677868 410.00054233 332.0017213  174.00410948 308.00208406\n",
      " 685.99637057  51.00596863 669.99661241 599.99767047   8.00661858\n",
      "  40.0061349  152.00444201 388.00087486 162.00429086 360.00129808]\n"
     ]
    }
   ],
   "source": [
    "print(en.predict(x_test))\n"
   ]
  },
  {
   "cell_type": "code",
   "execution_count": 140,
   "id": "8658a9a4",
   "metadata": {},
   "outputs": [
    {
     "name": "stdout",
     "output_type": "stream",
     "text": [
      "0.9999999997672168\n"
     ]
    }
   ],
   "source": [
    "print(en.score(x_test,y_test))"
   ]
  },
  {
   "cell_type": "code",
   "execution_count": 141,
   "id": "6a377f96",
   "metadata": {},
   "outputs": [
    {
     "name": "stdout",
     "output_type": "stream",
     "text": [
      "Mean Absolute Error: 1.7497114868092467e-13\n"
     ]
    }
   ],
   "source": [
    "print(\"Mean Absolute Error:\",metrics.mean_absolute_error(y_test,prediction))"
   ]
  },
  {
   "cell_type": "code",
   "execution_count": 142,
   "id": "7a3179cc",
   "metadata": {},
   "outputs": [
    {
     "name": "stdout",
     "output_type": "stream",
     "text": [
      "Mean Squared Error: 4.0832881440159776e-26\n"
     ]
    }
   ],
   "source": [
    "print(\"Mean Squared Error:\",metrics.mean_squared_error(y_test,prediction))"
   ]
  },
  {
   "cell_type": "code",
   "execution_count": 143,
   "id": "aed332cc",
   "metadata": {},
   "outputs": [
    {
     "name": "stdout",
     "output_type": "stream",
     "text": [
      "Root Mean Squared Error: 2.020714760676523e-13\n"
     ]
    }
   ],
   "source": [
    "print(\"Root Mean Squared Error:\",np.sqrt(metrics.mean_squared_error(y_test,prediction)))"
   ]
  },
  {
   "cell_type": "code",
   "execution_count": 144,
   "id": "ea989773",
   "metadata": {},
   "outputs": [],
   "source": [
    "# Model Saving\n",
    "filename=\"Prediction\"\n",
    "pickle.dump(lr,open(filename,'wb'))"
   ]
  },
  {
   "cell_type": "code",
   "execution_count": 145,
   "id": "fc26542b",
   "metadata": {},
   "outputs": [],
   "source": [
    "filename='Prediction'\n",
    "model=pickle.load(open(filename,'rb'))"
   ]
  },
  {
   "cell_type": "code",
   "execution_count": 146,
   "id": "8596306a",
   "metadata": {},
   "outputs": [
    {
     "data": {
      "text/plain": [
       "array([30., 23.])"
      ]
     },
     "execution_count": 146,
     "metadata": {},
     "output_type": "execute_result"
    }
   ],
   "source": [
    "real=[[10,30,15,48],[43,23,56,89]]\n",
    "result=model.predict(real)\n",
    "result"
   ]
  },
  {
   "cell_type": "markdown",
   "id": "85c284db",
   "metadata": {},
   "source": [
    "# DataSet Vande Bharat(23)"
   ]
  },
  {
   "cell_type": "code",
   "execution_count": 148,
   "id": "6cad976b",
   "metadata": {},
   "outputs": [
    {
     "data": {
      "text/html": [
       "<div>\n",
       "<style scoped>\n",
       "    .dataframe tbody tr th:only-of-type {\n",
       "        vertical-align: middle;\n",
       "    }\n",
       "\n",
       "    .dataframe tbody tr th {\n",
       "        vertical-align: top;\n",
       "    }\n",
       "\n",
       "    .dataframe thead th {\n",
       "        text-align: right;\n",
       "    }\n",
       "</style>\n",
       "<table border=\"1\" class=\"dataframe\">\n",
       "  <thead>\n",
       "    <tr style=\"text-align: right;\">\n",
       "      <th></th>\n",
       "      <th>Sr. No.</th>\n",
       "      <th>Train Name</th>\n",
       "      <th>Train Number</th>\n",
       "      <th>Originating City</th>\n",
       "      <th>Originating Station</th>\n",
       "      <th>Terminal City</th>\n",
       "      <th>Terminal Station</th>\n",
       "      <th>Operator</th>\n",
       "      <th>No. of Cars</th>\n",
       "      <th>Frequency</th>\n",
       "      <th>Distance</th>\n",
       "      <th>Travel Time</th>\n",
       "      <th>Speed</th>\n",
       "      <th>Average Speed</th>\n",
       "      <th>Inauguration</th>\n",
       "      <th>Average occupancy</th>\n",
       "    </tr>\n",
       "  </thead>\n",
       "  <tbody>\n",
       "    <tr>\n",
       "      <th>0</th>\n",
       "      <td>1</td>\n",
       "      <td>New Delhi - Varanasi Vande Bharat Express</td>\n",
       "      <td>22435/22436</td>\n",
       "      <td>Delhi</td>\n",
       "      <td>New Delhi</td>\n",
       "      <td>Varanasi</td>\n",
       "      <td>Varanasi Junction</td>\n",
       "      <td>NR</td>\n",
       "      <td>16</td>\n",
       "      <td>Except Thursdays</td>\n",
       "      <td>759 km (472 mi)</td>\n",
       "      <td>08h 00m</td>\n",
       "      <td>130 km/h (81 mph)</td>\n",
       "      <td>95 km/h (59 mph)</td>\n",
       "      <td>2/15/2019</td>\n",
       "      <td>126%</td>\n",
       "    </tr>\n",
       "    <tr>\n",
       "      <th>1</th>\n",
       "      <td>2</td>\n",
       "      <td>New Delhi - Shri Mata Vaishno Devi Katra Vande...</td>\n",
       "      <td>22439/22440</td>\n",
       "      <td>Delhi</td>\n",
       "      <td>New Delhi</td>\n",
       "      <td>Katra</td>\n",
       "      <td>Shri Mata Vaishno Devi Katra</td>\n",
       "      <td>NR</td>\n",
       "      <td>16</td>\n",
       "      <td>Except Tuesdays</td>\n",
       "      <td>655 km (407 mi)</td>\n",
       "      <td>08h 00m</td>\n",
       "      <td>130 km/h (81 mph)</td>\n",
       "      <td>82 km/h (51 mph)</td>\n",
       "      <td>10/3/2019</td>\n",
       "      <td>114%</td>\n",
       "    </tr>\n",
       "    <tr>\n",
       "      <th>2</th>\n",
       "      <td>3</td>\n",
       "      <td>Mumbai Central - Gandhinagar Capital Vande Bha...</td>\n",
       "      <td>20901/20902</td>\n",
       "      <td>Mumbai</td>\n",
       "      <td>Mumbai Central</td>\n",
       "      <td>Gandhinagar</td>\n",
       "      <td>Gandhinagar Capital</td>\n",
       "      <td>WR</td>\n",
       "      <td>16</td>\n",
       "      <td>Except Wednesdays</td>\n",
       "      <td>522 km (324 mi)</td>\n",
       "      <td>06h 25m</td>\n",
       "      <td>130 km/h (81 mph)</td>\n",
       "      <td>82 km/h (51 mph)</td>\n",
       "      <td>9/30/2022</td>\n",
       "      <td>132%</td>\n",
       "    </tr>\n",
       "    <tr>\n",
       "      <th>3</th>\n",
       "      <td>4</td>\n",
       "      <td>New Delhi - Amb Andaura Vande Bharat Express</td>\n",
       "      <td>22447/22448</td>\n",
       "      <td>Delhi</td>\n",
       "      <td>New Delhi</td>\n",
       "      <td>Andaura</td>\n",
       "      <td>Amb Andaura</td>\n",
       "      <td>NR</td>\n",
       "      <td>16</td>\n",
       "      <td>Except Fridays</td>\n",
       "      <td>412 km (256 mi)</td>\n",
       "      <td>05h 10m</td>\n",
       "      <td>130 km/h (81 mph)</td>\n",
       "      <td>79 km/h (49 mph)</td>\n",
       "      <td>10/13/2022</td>\n",
       "      <td>70%</td>\n",
       "    </tr>\n",
       "    <tr>\n",
       "      <th>4</th>\n",
       "      <td>5</td>\n",
       "      <td>MGR Chennai Central - Mysuru Vande Bharat Express</td>\n",
       "      <td>20607/20608</td>\n",
       "      <td>Chennai</td>\n",
       "      <td>Chennai Central</td>\n",
       "      <td>Mysuru</td>\n",
       "      <td>Mysore Junction</td>\n",
       "      <td>SR</td>\n",
       "      <td>16</td>\n",
       "      <td>Except Wednesdays</td>\n",
       "      <td>496 km (308 mi)</td>\n",
       "      <td>06h 30m</td>\n",
       "      <td>130 km/h (81 mph)</td>\n",
       "      <td>79 km/h (49 mph)</td>\n",
       "      <td>11/11/2022</td>\n",
       "      <td>75%</td>\n",
       "    </tr>\n",
       "    <tr>\n",
       "      <th>5</th>\n",
       "      <td>6</td>\n",
       "      <td>Bilaspur - Nagpur Vande Bharat Express</td>\n",
       "      <td>20825/20826</td>\n",
       "      <td>Bilaspur, Chhattisgarh</td>\n",
       "      <td>Bilaspur Junction</td>\n",
       "      <td>Nagpur</td>\n",
       "      <td>Nagpur Junction</td>\n",
       "      <td>SECR</td>\n",
       "      <td>8</td>\n",
       "      <td>Except Saturdays</td>\n",
       "      <td>412 km (256 mi)</td>\n",
       "      <td>05h 30m</td>\n",
       "      <td>130 km/h (81 mph)</td>\n",
       "      <td>75 km/h (47 mph)</td>\n",
       "      <td>12/11/2022</td>\n",
       "      <td>96%</td>\n",
       "    </tr>\n",
       "    <tr>\n",
       "      <th>6</th>\n",
       "      <td>7</td>\n",
       "      <td>Howrah - New Jalpaiguri Vande Bharat Express</td>\n",
       "      <td>22301/22302</td>\n",
       "      <td>Kolkata</td>\n",
       "      <td>Howrah Junction</td>\n",
       "      <td>Siliguri</td>\n",
       "      <td>New Jalpaiguri Junction</td>\n",
       "      <td>ER</td>\n",
       "      <td>16</td>\n",
       "      <td>Except Wednesdays</td>\n",
       "      <td>565 km (351 mi)</td>\n",
       "      <td>07h 30m</td>\n",
       "      <td>130 km/h (81 mph)</td>\n",
       "      <td>75 km/h (47 mph)</td>\n",
       "      <td>12/30/2022</td>\n",
       "      <td>100%</td>\n",
       "    </tr>\n",
       "    <tr>\n",
       "      <th>7</th>\n",
       "      <td>8</td>\n",
       "      <td>Visakhapatnam - Secunderabad Vande Bharat Express</td>\n",
       "      <td>20833/20834</td>\n",
       "      <td>Visakhapatnam</td>\n",
       "      <td>Visakhapatnam Junction</td>\n",
       "      <td>Hyderabad</td>\n",
       "      <td>Secunderabad Junction</td>\n",
       "      <td>ECoR</td>\n",
       "      <td>16</td>\n",
       "      <td>Except Sundays</td>\n",
       "      <td>698 km (434 mi)</td>\n",
       "      <td>08h 30m</td>\n",
       "      <td>130 km/h (81 mph)</td>\n",
       "      <td>82 km/h (51 mph)</td>\n",
       "      <td>1/15/2023</td>\n",
       "      <td>120%</td>\n",
       "    </tr>\n",
       "    <tr>\n",
       "      <th>8</th>\n",
       "      <td>9</td>\n",
       "      <td>Mumbai CSMT - Solapur Vande Bharat Express</td>\n",
       "      <td>22225/22226</td>\n",
       "      <td>Mumbai</td>\n",
       "      <td>Chhatrapati Shivaji Terminus</td>\n",
       "      <td>Solapur</td>\n",
       "      <td>Solapur</td>\n",
       "      <td>CR</td>\n",
       "      <td>16</td>\n",
       "      <td>Except Wednesdays (22225) , Except Thursdays (...</td>\n",
       "      <td>452 km (281 mi)</td>\n",
       "      <td>06h 30m</td>\n",
       "      <td>110 km/h (68 mph)</td>\n",
       "      <td>70 km/h (43 mph)</td>\n",
       "      <td>2/10/2023</td>\n",
       "      <td>100%</td>\n",
       "    </tr>\n",
       "    <tr>\n",
       "      <th>9</th>\n",
       "      <td>10</td>\n",
       "      <td>Mumbai CSMT - Sainagar Shirdi Vande Bharat Exp...</td>\n",
       "      <td>22223/22224</td>\n",
       "      <td>Mumbai</td>\n",
       "      <td>Chhatrapati Shivaji Terminus</td>\n",
       "      <td>Shirdi</td>\n",
       "      <td>Sainagar Shirdi</td>\n",
       "      <td>CR</td>\n",
       "      <td>16</td>\n",
       "      <td>Except Tuesdays</td>\n",
       "      <td>339 km (211 mi)</td>\n",
       "      <td>05h 20m</td>\n",
       "      <td>110 km/h (68 mph)</td>\n",
       "      <td>64 km/h (40 mph)</td>\n",
       "      <td>2/10/2023</td>\n",
       "      <td>93%</td>\n",
       "    </tr>\n",
       "    <tr>\n",
       "      <th>10</th>\n",
       "      <td>11</td>\n",
       "      <td>Rani Kamalapati (Habibganj) - Hazrat Nizamuddi...</td>\n",
       "      <td>20171/20172</td>\n",
       "      <td>Bhopal</td>\n",
       "      <td>Habibganj (Rani Kamalapati)</td>\n",
       "      <td>Delhi</td>\n",
       "      <td>Hazrat Nizamuddin</td>\n",
       "      <td>WCR</td>\n",
       "      <td>16</td>\n",
       "      <td>Except Saturdays</td>\n",
       "      <td>702 km (436 mi)</td>\n",
       "      <td>07h 30m</td>\n",
       "      <td>160 km/h (99 mph)</td>\n",
       "      <td>94 km/h (58 mph)</td>\n",
       "      <td>4/1/2023</td>\n",
       "      <td>90%</td>\n",
       "    </tr>\n",
       "    <tr>\n",
       "      <th>11</th>\n",
       "      <td>12</td>\n",
       "      <td>Secunderabad - Tirupati Vande Bharat Express</td>\n",
       "      <td>20701/20702</td>\n",
       "      <td>Hyderabad</td>\n",
       "      <td>Secunderabad Junction</td>\n",
       "      <td>Tirupati</td>\n",
       "      <td>Tirupati</td>\n",
       "      <td>SCR</td>\n",
       "      <td>16</td>\n",
       "      <td>Except Tuesdays</td>\n",
       "      <td>661 km (411 mi)</td>\n",
       "      <td>08h 15m</td>\n",
       "      <td>130 km/h (81 mph)</td>\n",
       "      <td>80 km/h (50 mph)</td>\n",
       "      <td>4/8/2023</td>\n",
       "      <td>110%</td>\n",
       "    </tr>\n",
       "    <tr>\n",
       "      <th>12</th>\n",
       "      <td>13</td>\n",
       "      <td>MGR Chennai Central - Coimbatore Vande Bharat ...</td>\n",
       "      <td>20643/20644</td>\n",
       "      <td>Chennai</td>\n",
       "      <td>Chennai Central</td>\n",
       "      <td>Coimbatore</td>\n",
       "      <td>Coimbatore Junction</td>\n",
       "      <td>SR</td>\n",
       "      <td>8</td>\n",
       "      <td>Except Wednesdays</td>\n",
       "      <td>495 km (308 mi)</td>\n",
       "      <td>05h 50m</td>\n",
       "      <td>130 km/h (81 mph)</td>\n",
       "      <td>85 km/h (53 mph)</td>\n",
       "      <td>4/8/2023</td>\n",
       "      <td>150%</td>\n",
       "    </tr>\n",
       "    <tr>\n",
       "      <th>13</th>\n",
       "      <td>14</td>\n",
       "      <td>Delhi Cantonment - Ajmer Vande Bharat Express</td>\n",
       "      <td>20977/20978</td>\n",
       "      <td>Delhi</td>\n",
       "      <td>Delhi Cantonment</td>\n",
       "      <td>Ajmer</td>\n",
       "      <td>Ajmer Junction</td>\n",
       "      <td>NWR</td>\n",
       "      <td>16</td>\n",
       "      <td>Except Wednesdays</td>\n",
       "      <td>428 km (266 mi)</td>\n",
       "      <td>05h 15m</td>\n",
       "      <td>110 km/h (68 mph)</td>\n",
       "      <td>82 km/h (51 mph)</td>\n",
       "      <td>4/12/2023</td>\n",
       "      <td>70%</td>\n",
       "    </tr>\n",
       "    <tr>\n",
       "      <th>14</th>\n",
       "      <td>15</td>\n",
       "      <td>Kasaragod - Thiruvananthapuram Vande Bharat Ex...</td>\n",
       "      <td>20633/20634</td>\n",
       "      <td>Kasaragod</td>\n",
       "      <td>Kasaragod</td>\n",
       "      <td>Thiruvananthapuram</td>\n",
       "      <td>Thiruvananthapuram Central</td>\n",
       "      <td>SR</td>\n",
       "      <td>16</td>\n",
       "      <td>Except Thursdays</td>\n",
       "      <td>587 km (365 mi)</td>\n",
       "      <td>08h 05m</td>\n",
       "      <td>110 km/h (68 mph)</td>\n",
       "      <td>73 km/h (45 mph)</td>\n",
       "      <td>4/25/2023</td>\n",
       "      <td>177%</td>\n",
       "    </tr>\n",
       "    <tr>\n",
       "      <th>15</th>\n",
       "      <td>16</td>\n",
       "      <td>Howrah - Puri Vande Bharat Express</td>\n",
       "      <td>22895/22896</td>\n",
       "      <td>Kolkata</td>\n",
       "      <td>Howrah Junction</td>\n",
       "      <td>Puri</td>\n",
       "      <td>Puri</td>\n",
       "      <td>SER</td>\n",
       "      <td>16</td>\n",
       "      <td>Except Thursdays</td>\n",
       "      <td>500 km (310 mi)</td>\n",
       "      <td>06h 25m</td>\n",
       "      <td>130 km/h (81 mph)</td>\n",
       "      <td>78 km/h (48 mph)</td>\n",
       "      <td>5/18/2023</td>\n",
       "      <td>99%</td>\n",
       "    </tr>\n",
       "    <tr>\n",
       "      <th>16</th>\n",
       "      <td>17</td>\n",
       "      <td>Anand Vihar Terminal - Dehradun Vande Bharat E...</td>\n",
       "      <td>22457/22458</td>\n",
       "      <td>Delhi</td>\n",
       "      <td>Anand Vihar Terminal</td>\n",
       "      <td>Dehradun</td>\n",
       "      <td>Dehradun Terminal</td>\n",
       "      <td>NR</td>\n",
       "      <td>8</td>\n",
       "      <td>Except Wednesdays</td>\n",
       "      <td>304 km (189 mi)</td>\n",
       "      <td>04h 45m</td>\n",
       "      <td>130 km/h (81 mph)</td>\n",
       "      <td>64 km/h (40 mph)</td>\n",
       "      <td>5/25/2023</td>\n",
       "      <td>100%</td>\n",
       "    </tr>\n",
       "    <tr>\n",
       "      <th>17</th>\n",
       "      <td>18</td>\n",
       "      <td>New Jalpaiguri - Guwahati Vande Bharat Express</td>\n",
       "      <td>22227/22228</td>\n",
       "      <td>Siliguri</td>\n",
       "      <td>New Jalpaiguri Junction</td>\n",
       "      <td>Guwahati</td>\n",
       "      <td>Guwahati</td>\n",
       "      <td>NFR</td>\n",
       "      <td>8</td>\n",
       "      <td>Except Tuesdays</td>\n",
       "      <td>407 km (253 mi)</td>\n",
       "      <td>05h 30m</td>\n",
       "      <td>110 km/h (68 mph)</td>\n",
       "      <td>74 km/h (46 mph)</td>\n",
       "      <td>5/29/2023</td>\n",
       "      <td>91%</td>\n",
       "    </tr>\n",
       "    <tr>\n",
       "      <th>18</th>\n",
       "      <td>19</td>\n",
       "      <td>Mumbai CSMT - Madgaon Vande Bharat Express</td>\n",
       "      <td>22229/22230</td>\n",
       "      <td>Mumbai</td>\n",
       "      <td>Chhatrapati Shivaji Terminus</td>\n",
       "      <td>Madgaon</td>\n",
       "      <td>Madgaon Junction</td>\n",
       "      <td>CR</td>\n",
       "      <td>16</td>\n",
       "      <td>Except Fridays\\n(Non-Monsoon)</td>\n",
       "      <td>586 km (364 mi)</td>\n",
       "      <td>07h 45m\\n(Non-Monsoon)</td>\n",
       "      <td>120 km/h (75 mph)</td>\n",
       "      <td>75 km/h (47 mph)\\n(Non-Monsoon)</td>\n",
       "      <td>6/27/2023</td>\n",
       "      <td>94%</td>\n",
       "    </tr>\n",
       "    <tr>\n",
       "      <th>19</th>\n",
       "      <td>19</td>\n",
       "      <td>Mumbai CSMT - Madgaon Vande Bharat Express</td>\n",
       "      <td>22229/22230</td>\n",
       "      <td>Mumbai</td>\n",
       "      <td>Chhatrapati Shivaji Terminus</td>\n",
       "      <td>Madgaon</td>\n",
       "      <td>Madgaon Junction</td>\n",
       "      <td>CR</td>\n",
       "      <td>16</td>\n",
       "      <td>Monday, Wednesday, Friday (22229)\\nTuesday, Th...</td>\n",
       "      <td>586 km (364 mi)</td>\n",
       "      <td>10h 05m\\n(Monsoon)</td>\n",
       "      <td>120 km/h (75 mph)</td>\n",
       "      <td>57 km/h (35 mph)\\n(Monsoon)</td>\n",
       "      <td>6/27/2023</td>\n",
       "      <td>94%</td>\n",
       "    </tr>\n",
       "    <tr>\n",
       "      <th>20</th>\n",
       "      <td>20</td>\n",
       "      <td>Patna - Ranchi Vande Bharat Express</td>\n",
       "      <td>22349/22350</td>\n",
       "      <td>Patna</td>\n",
       "      <td>Patna Junction</td>\n",
       "      <td>Ranchi</td>\n",
       "      <td>Ranchi Junction</td>\n",
       "      <td>ECR</td>\n",
       "      <td>8</td>\n",
       "      <td>Except Tuesdays</td>\n",
       "      <td>379 km (235 mi)</td>\n",
       "      <td>06h 00m</td>\n",
       "      <td>130 km/h (81 mph)</td>\n",
       "      <td>63 km/h (39 mph)</td>\n",
       "      <td>6/27/2023</td>\n",
       "      <td>118%</td>\n",
       "    </tr>\n",
       "    <tr>\n",
       "      <th>21</th>\n",
       "      <td>21</td>\n",
       "      <td>KSR Bengaluru - Dharwad Vande Bharat Express</td>\n",
       "      <td>20661/20662</td>\n",
       "      <td>Bangalore</td>\n",
       "      <td>Bangalore City</td>\n",
       "      <td>Hubbali - Dharwad</td>\n",
       "      <td>Dharwad</td>\n",
       "      <td>SWR</td>\n",
       "      <td>8</td>\n",
       "      <td>Except Tuesdays</td>\n",
       "      <td>490 km (300 mi)</td>\n",
       "      <td>06h 25m</td>\n",
       "      <td>130 km/h (81 mph)</td>\n",
       "      <td>76 km/h (47 mph)</td>\n",
       "      <td>6/27/2023</td>\n",
       "      <td>72%</td>\n",
       "    </tr>\n",
       "    <tr>\n",
       "      <th>22</th>\n",
       "      <td>22</td>\n",
       "      <td>Rani Kamalapati (Habibganj) - Jabalpur Vande B...</td>\n",
       "      <td>20173/20174</td>\n",
       "      <td>Bhopal</td>\n",
       "      <td>Habibganj (Rani Kamalapati)</td>\n",
       "      <td>Jabalpur</td>\n",
       "      <td>Jabalpur Junction</td>\n",
       "      <td>WCR</td>\n",
       "      <td>8</td>\n",
       "      <td>Except Tuesdays</td>\n",
       "      <td>337 km (209 mi)</td>\n",
       "      <td>04h 40m</td>\n",
       "      <td>110 km/h (68 mph)</td>\n",
       "      <td>73 km/h (45 mph)</td>\n",
       "      <td>6/27/2023</td>\n",
       "      <td>44%</td>\n",
       "    </tr>\n",
       "    <tr>\n",
       "      <th>23</th>\n",
       "      <td>23</td>\n",
       "      <td>Indore - Bhopal Vande Bharat Express</td>\n",
       "      <td>20911/20912</td>\n",
       "      <td>Indore</td>\n",
       "      <td>Indore Junction</td>\n",
       "      <td>Bhopal</td>\n",
       "      <td>Bhopal Junction</td>\n",
       "      <td>WR</td>\n",
       "      <td>8</td>\n",
       "      <td>Except Sundays</td>\n",
       "      <td>250 km (160 mi)</td>\n",
       "      <td>03h 05m</td>\n",
       "      <td>110 km/h (68 mph)</td>\n",
       "      <td>82 km/h (51 mph)</td>\n",
       "      <td>6/27/2023</td>\n",
       "      <td>37%</td>\n",
       "    </tr>\n",
       "    <tr>\n",
       "      <th>24</th>\n",
       "      <td>24</td>\n",
       "      <td>Jodhpur - Sabarmati (Ahmedabad) Vande Bharat E...</td>\n",
       "      <td>12461/12462</td>\n",
       "      <td>Jodhpur</td>\n",
       "      <td>Jodhpur Junction</td>\n",
       "      <td>Ahmedabad</td>\n",
       "      <td>Sabarmati Junction</td>\n",
       "      <td>NWR</td>\n",
       "      <td>8</td>\n",
       "      <td>Except Tuesdays</td>\n",
       "      <td>449 km (279 mi)</td>\n",
       "      <td>06h 10m</td>\n",
       "      <td>130 km/h (81 mph)</td>\n",
       "      <td>73 km/h (45 mph)</td>\n",
       "      <td>7/7/2023</td>\n",
       "      <td>53%</td>\n",
       "    </tr>\n",
       "    <tr>\n",
       "      <th>25</th>\n",
       "      <td>25</td>\n",
       "      <td>Gorakhpur - Lucknow Charbagh Vande Bharat Express</td>\n",
       "      <td>22549/22550</td>\n",
       "      <td>Gorakhpur</td>\n",
       "      <td>Gorakhpur Junction</td>\n",
       "      <td>Charbagh</td>\n",
       "      <td>Lucknow Charbagh</td>\n",
       "      <td>NER</td>\n",
       "      <td>8</td>\n",
       "      <td>Except Saturdays</td>\n",
       "      <td>296 km (184 mi)</td>\n",
       "      <td>04h 15m</td>\n",
       "      <td>110 km/h (68 mph)</td>\n",
       "      <td>71 km/h (44 mph)</td>\n",
       "      <td>7/7/2023</td>\n",
       "      <td>77%</td>\n",
       "    </tr>\n",
       "  </tbody>\n",
       "</table>\n",
       "</div>"
      ],
      "text/plain": [
       "    Sr. No.                                         Train Name Train Number  \\\n",
       "0         1          New Delhi - Varanasi Vande Bharat Express  22435/22436   \n",
       "1         2  New Delhi - Shri Mata Vaishno Devi Katra Vande...  22439/22440   \n",
       "2         3  Mumbai Central - Gandhinagar Capital Vande Bha...  20901/20902   \n",
       "3         4       New Delhi - Amb Andaura Vande Bharat Express  22447/22448   \n",
       "4         5  MGR Chennai Central - Mysuru Vande Bharat Express  20607/20608   \n",
       "5         6             Bilaspur - Nagpur Vande Bharat Express  20825/20826   \n",
       "6         7       Howrah - New Jalpaiguri Vande Bharat Express  22301/22302   \n",
       "7         8  Visakhapatnam - Secunderabad Vande Bharat Express  20833/20834   \n",
       "8         9         Mumbai CSMT - Solapur Vande Bharat Express  22225/22226   \n",
       "9        10  Mumbai CSMT - Sainagar Shirdi Vande Bharat Exp...  22223/22224   \n",
       "10       11  Rani Kamalapati (Habibganj) - Hazrat Nizamuddi...  20171/20172   \n",
       "11       12       Secunderabad - Tirupati Vande Bharat Express  20701/20702   \n",
       "12       13  MGR Chennai Central - Coimbatore Vande Bharat ...  20643/20644   \n",
       "13       14      Delhi Cantonment - Ajmer Vande Bharat Express  20977/20978   \n",
       "14       15  Kasaragod - Thiruvananthapuram Vande Bharat Ex...  20633/20634   \n",
       "15       16                 Howrah - Puri Vande Bharat Express  22895/22896   \n",
       "16       17  Anand Vihar Terminal - Dehradun Vande Bharat E...  22457/22458   \n",
       "17       18     New Jalpaiguri - Guwahati Vande Bharat Express  22227/22228   \n",
       "18       19         Mumbai CSMT - Madgaon Vande Bharat Express  22229/22230   \n",
       "19       19         Mumbai CSMT - Madgaon Vande Bharat Express  22229/22230   \n",
       "20       20                Patna - Ranchi Vande Bharat Express  22349/22350   \n",
       "21       21       KSR Bengaluru - Dharwad Vande Bharat Express  20661/20662   \n",
       "22       22  Rani Kamalapati (Habibganj) - Jabalpur Vande B...  20173/20174   \n",
       "23       23               Indore - Bhopal Vande Bharat Express  20911/20912   \n",
       "24       24  Jodhpur - Sabarmati (Ahmedabad) Vande Bharat E...  12461/12462   \n",
       "25       25  Gorakhpur - Lucknow Charbagh Vande Bharat Express  22549/22550   \n",
       "\n",
       "          Originating City           Originating Station       Terminal City  \\\n",
       "0                    Delhi                     New Delhi            Varanasi   \n",
       "1                    Delhi                     New Delhi               Katra   \n",
       "2                   Mumbai                Mumbai Central         Gandhinagar   \n",
       "3                    Delhi                     New Delhi             Andaura   \n",
       "4                  Chennai               Chennai Central              Mysuru   \n",
       "5   Bilaspur, Chhattisgarh             Bilaspur Junction              Nagpur   \n",
       "6                  Kolkata               Howrah Junction            Siliguri   \n",
       "7            Visakhapatnam        Visakhapatnam Junction           Hyderabad   \n",
       "8                   Mumbai  Chhatrapati Shivaji Terminus             Solapur   \n",
       "9                   Mumbai  Chhatrapati Shivaji Terminus              Shirdi   \n",
       "10                  Bhopal   Habibganj (Rani Kamalapati)               Delhi   \n",
       "11               Hyderabad         Secunderabad Junction            Tirupati   \n",
       "12                 Chennai               Chennai Central          Coimbatore   \n",
       "13                   Delhi              Delhi Cantonment               Ajmer   \n",
       "14               Kasaragod                     Kasaragod  Thiruvananthapuram   \n",
       "15                 Kolkata               Howrah Junction                Puri   \n",
       "16                   Delhi          Anand Vihar Terminal            Dehradun   \n",
       "17                Siliguri       New Jalpaiguri Junction            Guwahati   \n",
       "18                  Mumbai  Chhatrapati Shivaji Terminus             Madgaon   \n",
       "19                  Mumbai  Chhatrapati Shivaji Terminus             Madgaon   \n",
       "20                   Patna                Patna Junction              Ranchi   \n",
       "21               Bangalore                Bangalore City   Hubbali - Dharwad   \n",
       "22                  Bhopal   Habibganj (Rani Kamalapati)            Jabalpur   \n",
       "23                  Indore               Indore Junction              Bhopal   \n",
       "24                 Jodhpur              Jodhpur Junction           Ahmedabad   \n",
       "25               Gorakhpur            Gorakhpur Junction            Charbagh   \n",
       "\n",
       "                Terminal Station Operator  No. of Cars  \\\n",
       "0              Varanasi Junction       NR           16   \n",
       "1   Shri Mata Vaishno Devi Katra       NR           16   \n",
       "2            Gandhinagar Capital       WR           16   \n",
       "3                    Amb Andaura       NR           16   \n",
       "4                Mysore Junction       SR           16   \n",
       "5                Nagpur Junction     SECR            8   \n",
       "6        New Jalpaiguri Junction       ER           16   \n",
       "7          Secunderabad Junction     ECoR           16   \n",
       "8                        Solapur       CR           16   \n",
       "9                Sainagar Shirdi       CR           16   \n",
       "10             Hazrat Nizamuddin      WCR           16   \n",
       "11                      Tirupati      SCR           16   \n",
       "12           Coimbatore Junction       SR            8   \n",
       "13                Ajmer Junction      NWR           16   \n",
       "14    Thiruvananthapuram Central       SR           16   \n",
       "15                          Puri      SER           16   \n",
       "16             Dehradun Terminal       NR            8   \n",
       "17                      Guwahati      NFR            8   \n",
       "18              Madgaon Junction       CR           16   \n",
       "19              Madgaon Junction       CR           16   \n",
       "20               Ranchi Junction      ECR            8   \n",
       "21                       Dharwad      SWR            8   \n",
       "22             Jabalpur Junction      WCR            8   \n",
       "23               Bhopal Junction       WR            8   \n",
       "24            Sabarmati Junction      NWR            8   \n",
       "25              Lucknow Charbagh      NER            8   \n",
       "\n",
       "                                            Frequency         Distance  \\\n",
       "0                                    Except Thursdays  759 km (472 mi)   \n",
       "1                                     Except Tuesdays  655 km (407 mi)   \n",
       "2                                   Except Wednesdays  522 km (324 mi)   \n",
       "3                                      Except Fridays  412 km (256 mi)   \n",
       "4                                   Except Wednesdays  496 km (308 mi)   \n",
       "5                                    Except Saturdays  412 km (256 mi)   \n",
       "6                                   Except Wednesdays  565 km (351 mi)   \n",
       "7                                      Except Sundays  698 km (434 mi)   \n",
       "8   Except Wednesdays (22225) , Except Thursdays (...  452 km (281 mi)   \n",
       "9                                     Except Tuesdays  339 km (211 mi)   \n",
       "10                                   Except Saturdays  702 km (436 mi)   \n",
       "11                                    Except Tuesdays  661 km (411 mi)   \n",
       "12                                  Except Wednesdays  495 km (308 mi)   \n",
       "13                                  Except Wednesdays  428 km (266 mi)   \n",
       "14                                   Except Thursdays  587 km (365 mi)   \n",
       "15                                   Except Thursdays  500 km (310 mi)   \n",
       "16                                  Except Wednesdays  304 km (189 mi)   \n",
       "17                                    Except Tuesdays  407 km (253 mi)   \n",
       "18                      Except Fridays\\n(Non-Monsoon)  586 km (364 mi)   \n",
       "19  Monday, Wednesday, Friday (22229)\\nTuesday, Th...  586 km (364 mi)   \n",
       "20                                    Except Tuesdays  379 km (235 mi)   \n",
       "21                                    Except Tuesdays  490 km (300 mi)   \n",
       "22                                    Except Tuesdays  337 km (209 mi)   \n",
       "23                                     Except Sundays  250 km (160 mi)   \n",
       "24                                    Except Tuesdays  449 km (279 mi)   \n",
       "25                                   Except Saturdays  296 km (184 mi)   \n",
       "\n",
       "               Travel Time              Speed  \\\n",
       "0                  08h 00m  130 km/h (81 mph)   \n",
       "1                  08h 00m  130 km/h (81 mph)   \n",
       "2                  06h 25m  130 km/h (81 mph)   \n",
       "3                  05h 10m  130 km/h (81 mph)   \n",
       "4                  06h 30m  130 km/h (81 mph)   \n",
       "5                  05h 30m  130 km/h (81 mph)   \n",
       "6                  07h 30m  130 km/h (81 mph)   \n",
       "7                  08h 30m  130 km/h (81 mph)   \n",
       "8                  06h 30m  110 km/h (68 mph)   \n",
       "9                  05h 20m  110 km/h (68 mph)   \n",
       "10                 07h 30m  160 km/h (99 mph)   \n",
       "11                 08h 15m  130 km/h (81 mph)   \n",
       "12                 05h 50m  130 km/h (81 mph)   \n",
       "13                 05h 15m  110 km/h (68 mph)   \n",
       "14                 08h 05m  110 km/h (68 mph)   \n",
       "15                 06h 25m  130 km/h (81 mph)   \n",
       "16                 04h 45m  130 km/h (81 mph)   \n",
       "17                 05h 30m  110 km/h (68 mph)   \n",
       "18  07h 45m\\n(Non-Monsoon)  120 km/h (75 mph)   \n",
       "19      10h 05m\\n(Monsoon)  120 km/h (75 mph)   \n",
       "20                 06h 00m  130 km/h (81 mph)   \n",
       "21                 06h 25m  130 km/h (81 mph)   \n",
       "22                 04h 40m  110 km/h (68 mph)   \n",
       "23                 03h 05m  110 km/h (68 mph)   \n",
       "24                 06h 10m  130 km/h (81 mph)   \n",
       "25                 04h 15m  110 km/h (68 mph)   \n",
       "\n",
       "                      Average Speed Inauguration Average occupancy  \n",
       "0                  95 km/h (59 mph)    2/15/2019              126%  \n",
       "1                  82 km/h (51 mph)    10/3/2019              114%  \n",
       "2                  82 km/h (51 mph)    9/30/2022              132%  \n",
       "3                  79 km/h (49 mph)   10/13/2022               70%  \n",
       "4                  79 km/h (49 mph)   11/11/2022               75%  \n",
       "5                  75 km/h (47 mph)   12/11/2022               96%  \n",
       "6                  75 km/h (47 mph)   12/30/2022              100%  \n",
       "7                  82 km/h (51 mph)    1/15/2023              120%  \n",
       "8                  70 km/h (43 mph)    2/10/2023              100%  \n",
       "9                  64 km/h (40 mph)    2/10/2023               93%  \n",
       "10                 94 km/h (58 mph)     4/1/2023               90%  \n",
       "11                 80 km/h (50 mph)     4/8/2023              110%  \n",
       "12                 85 km/h (53 mph)     4/8/2023              150%  \n",
       "13                 82 km/h (51 mph)    4/12/2023               70%  \n",
       "14                 73 km/h (45 mph)    4/25/2023              177%  \n",
       "15                 78 km/h (48 mph)    5/18/2023               99%  \n",
       "16                 64 km/h (40 mph)    5/25/2023              100%  \n",
       "17                 74 km/h (46 mph)    5/29/2023               91%  \n",
       "18  75 km/h (47 mph)\\n(Non-Monsoon)    6/27/2023               94%  \n",
       "19      57 km/h (35 mph)\\n(Monsoon)    6/27/2023               94%  \n",
       "20                 63 km/h (39 mph)    6/27/2023              118%  \n",
       "21                 76 km/h (47 mph)    6/27/2023               72%  \n",
       "22                 73 km/h (45 mph)    6/27/2023               44%  \n",
       "23                 82 km/h (51 mph)    6/27/2023               37%  \n",
       "24                 73 km/h (45 mph)     7/7/2023               53%  \n",
       "25                 71 km/h (44 mph)     7/7/2023               77%  "
      ]
     },
     "execution_count": 148,
     "metadata": {},
     "output_type": "execute_result"
    }
   ],
   "source": [
    "g=pd.read_csv(r\"E:\\Python Data Science\\Documents\\23_Vande Bharat.csv\")\n",
    "g"
   ]
  },
  {
   "cell_type": "code",
   "execution_count": 149,
   "id": "186254be",
   "metadata": {},
   "outputs": [
    {
     "name": "stdout",
     "output_type": "stream",
     "text": [
      "<class 'pandas.core.frame.DataFrame'>\n",
      "RangeIndex: 26 entries, 0 to 25\n",
      "Data columns (total 16 columns):\n",
      " #   Column               Non-Null Count  Dtype \n",
      "---  ------               --------------  ----- \n",
      " 0   Sr. No.              26 non-null     int64 \n",
      " 1   Train Name           26 non-null     object\n",
      " 2   Train Number         26 non-null     object\n",
      " 3   Originating City     26 non-null     object\n",
      " 4   Originating Station  26 non-null     object\n",
      " 5   Terminal City        26 non-null     object\n",
      " 6   Terminal Station     26 non-null     object\n",
      " 7   Operator             26 non-null     object\n",
      " 8   No. of Cars          26 non-null     int64 \n",
      " 9   Frequency            26 non-null     object\n",
      " 10  Distance             26 non-null     object\n",
      " 11  Travel Time          26 non-null     object\n",
      " 12  Speed                26 non-null     object\n",
      " 13  Average Speed        26 non-null     object\n",
      " 14  Inauguration         26 non-null     object\n",
      " 15  Average occupancy    26 non-null     object\n",
      "dtypes: int64(2), object(14)\n",
      "memory usage: 3.4+ KB\n"
     ]
    }
   ],
   "source": [
    "g.info()"
   ]
  },
  {
   "cell_type": "code",
   "execution_count": 150,
   "id": "9ac13eb0",
   "metadata": {},
   "outputs": [
    {
     "data": {
      "text/plain": [
       "Index(['Sr. No.', 'Train Name', 'Train Number', 'Originating City',\n",
       "       'Originating Station', 'Terminal City', 'Terminal Station', 'Operator',\n",
       "       'No. of Cars', 'Frequency', 'Distance', 'Travel Time', 'Speed',\n",
       "       'Average Speed', 'Inauguration', 'Average occupancy'],\n",
       "      dtype='object')"
      ]
     },
     "execution_count": 150,
     "metadata": {},
     "output_type": "execute_result"
    }
   ],
   "source": [
    "g.columns"
   ]
  },
  {
   "cell_type": "code",
   "execution_count": 152,
   "id": "57774468",
   "metadata": {},
   "outputs": [],
   "source": [
    "x=g[['Sr. No.', 'No. of Cars',]]\n",
    "y=g[ 'No. of Cars']"
   ]
  },
  {
   "cell_type": "code",
   "execution_count": 153,
   "id": "11eeaf85",
   "metadata": {},
   "outputs": [],
   "source": [
    "x_train,x_test,y_train,y_test=train_test_split(x,y,test_size=0.3)"
   ]
  },
  {
   "cell_type": "code",
   "execution_count": 154,
   "id": "c20d1571",
   "metadata": {},
   "outputs": [
    {
     "data": {
      "text/plain": [
       "LinearRegression()"
      ]
     },
     "execution_count": 154,
     "metadata": {},
     "output_type": "execute_result"
    }
   ],
   "source": [
    "lr=LinearRegression()\n",
    "lr.fit(x_train,y_train)"
   ]
  },
  {
   "cell_type": "code",
   "execution_count": 155,
   "id": "ade345d6",
   "metadata": {},
   "outputs": [
    {
     "name": "stdout",
     "output_type": "stream",
     "text": [
      "0.0\n"
     ]
    }
   ],
   "source": [
    "print(lr.intercept_)"
   ]
  },
  {
   "cell_type": "code",
   "execution_count": 156,
   "id": "319b1403",
   "metadata": {},
   "outputs": [
    {
     "data": {
      "text/html": [
       "<div>\n",
       "<style scoped>\n",
       "    .dataframe tbody tr th:only-of-type {\n",
       "        vertical-align: middle;\n",
       "    }\n",
       "\n",
       "    .dataframe tbody tr th {\n",
       "        vertical-align: top;\n",
       "    }\n",
       "\n",
       "    .dataframe thead th {\n",
       "        text-align: right;\n",
       "    }\n",
       "</style>\n",
       "<table border=\"1\" class=\"dataframe\">\n",
       "  <thead>\n",
       "    <tr style=\"text-align: right;\">\n",
       "      <th></th>\n",
       "      <th>Co-efficient</th>\n",
       "    </tr>\n",
       "  </thead>\n",
       "  <tbody>\n",
       "    <tr>\n",
       "      <th>Sr. No.</th>\n",
       "      <td>0.0</td>\n",
       "    </tr>\n",
       "    <tr>\n",
       "      <th>No. of Cars</th>\n",
       "      <td>1.0</td>\n",
       "    </tr>\n",
       "  </tbody>\n",
       "</table>\n",
       "</div>"
      ],
      "text/plain": [
       "             Co-efficient\n",
       "Sr. No.               0.0\n",
       "No. of Cars           1.0"
      ]
     },
     "execution_count": 156,
     "metadata": {},
     "output_type": "execute_result"
    }
   ],
   "source": [
    "coeff=pd.DataFrame(lr.coef_,x.columns,columns=['Co-efficient'])\n",
    "coeff"
   ]
  },
  {
   "cell_type": "code",
   "execution_count": 157,
   "id": "01c0c6cb",
   "metadata": {},
   "outputs": [
    {
     "data": {
      "text/plain": [
       "<matplotlib.collections.PathCollection at 0x213315c59d0>"
      ]
     },
     "execution_count": 157,
     "metadata": {},
     "output_type": "execute_result"
    },
    {
     "data": {
      "image/png": "[encoded data removed]",
      "text/plain": [
       "<Figure size 432x288 with 1 Axes>"
      ]
     },
     "metadata": {
      "needs_background": "light"
     },
     "output_type": "display_data"
    }
   ],
   "source": [
    "#Predicting\n",
    "\n",
    "prediction=lr.predict(x_test)\n",
    "plt.scatter(y_test,prediction)"
   ]
  },
  {
   "cell_type": "code",
   "execution_count": 158,
   "id": "b706efda",
   "metadata": {},
   "outputs": [
    {
     "name": "stdout",
     "output_type": "stream",
     "text": [
      "1.0\n"
     ]
    }
   ],
   "source": [
    "# Score\n",
    "print(lr.score(x_test,y_test))"
   ]
  },
  {
   "cell_type": "code",
   "execution_count": 159,
   "id": "2ddc22f3",
   "metadata": {},
   "outputs": [
    {
     "data": {
      "text/plain": [
       "Ridge(alpha=10)"
      ]
     },
     "execution_count": 159,
     "metadata": {},
     "output_type": "execute_result"
    }
   ],
   "source": [
    "#Ridge fitting\n",
    "rr=Ridge(alpha=10)\n",
    "rr.fit(x_train,y_train)"
   ]
  },
  {
   "cell_type": "code",
   "execution_count": 160,
   "id": "cb1ecf81",
   "metadata": {},
   "outputs": [
    {
     "data": {
      "text/plain": [
       "0.9974418797763854"
      ]
     },
     "execution_count": 160,
     "metadata": {},
     "output_type": "execute_result"
    }
   ],
   "source": [
    "#Ridge Score\n",
    "rr.score(x_test,y_test)"
   ]
  },
  {
   "cell_type": "code",
   "execution_count": 161,
   "id": "e9b58463",
   "metadata": {},
   "outputs": [
    {
     "data": {
      "text/plain": [
       "Lasso(alpha=10)"
      ]
     },
     "execution_count": 161,
     "metadata": {},
     "output_type": "execute_result"
    }
   ],
   "source": [
    "# Lasso Fitting\n",
    "la=Lasso(alpha=10)\n",
    "la.fit(x_train,y_train)"
   ]
  },
  {
   "cell_type": "code",
   "execution_count": 162,
   "id": "d86e5f61",
   "metadata": {},
   "outputs": [
    {
     "data": {
      "text/plain": [
       "0.08284993682125907"
      ]
     },
     "execution_count": 162,
     "metadata": {},
     "output_type": "execute_result"
    }
   ],
   "source": [
    "# Lasso Score\n",
    "la.score(x_test,y_test)"
   ]
  },
  {
   "cell_type": "code",
   "execution_count": 163,
   "id": "878c7cd9",
   "metadata": {},
   "outputs": [
    {
     "data": {
      "text/plain": [
       "ElasticNet()"
      ]
     },
     "execution_count": 163,
     "metadata": {},
     "output_type": "execute_result"
    }
   ],
   "source": [
    "# ElasticNet\n",
    "en=ElasticNet()\n",
    "en.fit(x_train,y_train)"
   ]
  },
  {
   "cell_type": "code",
   "execution_count": 164,
   "id": "5a6a2302",
   "metadata": {},
   "outputs": [
    {
     "name": "stdout",
     "output_type": "stream",
     "text": [
      "[-0.01441278  0.91105544]\n"
     ]
    }
   ],
   "source": [
    "print(en.coef_)"
   ]
  },
  {
   "cell_type": "code",
   "execution_count": 165,
   "id": "11a5e5e5",
   "metadata": {},
   "outputs": [
    {
     "name": "stdout",
     "output_type": "stream",
     "text": [
      "1.4096217538444478\n"
     ]
    }
   ],
   "source": [
    "print(en.intercept_)"
   ]
  },
  {
   "cell_type": "code",
   "execution_count": 166,
   "id": "f60632bd",
   "metadata": {},
   "outputs": [
    {
     "name": "stdout",
     "output_type": "stream",
     "text": [
      "[ 8.38098401 15.97209599 15.95768321  8.36657122  8.39539679 15.77031701\n",
      "  8.45304793  8.51069907]\n"
     ]
    }
   ],
   "source": [
    "print(en.predict(x_test))"
   ]
  },
  {
   "cell_type": "code",
   "execution_count": 167,
   "id": "39aaa6c7",
   "metadata": {},
   "outputs": [
    {
     "name": "stdout",
     "output_type": "stream",
     "text": [
      "0.9920229043368902\n"
     ]
    }
   ],
   "source": [
    "print(en.score(x_test,y_test))"
   ]
  },
  {
   "cell_type": "code",
   "execution_count": 168,
   "id": "f6f5b03b",
   "metadata": {},
   "outputs": [
    {
     "name": "stdout",
     "output_type": "stream",
     "text": [
      "Mean Absolute Error: 0.0\n"
     ]
    }
   ],
   "source": [
    "print(\"Mean Absolute Error:\",metrics.mean_absolute_error(y_test,prediction))"
   ]
  },
  {
   "cell_type": "code",
   "execution_count": 169,
   "id": "15afc00a",
   "metadata": {},
   "outputs": [
    {
     "name": "stdout",
     "output_type": "stream",
     "text": [
      "Mean Squared Error: 0.0\n"
     ]
    }
   ],
   "source": [
    "print(\"Mean Squared Error:\",metrics.mean_squared_error(y_test,prediction))"
   ]
  },
  {
   "cell_type": "code",
   "execution_count": 170,
   "id": "53f4966b",
   "metadata": {},
   "outputs": [
    {
     "name": "stdout",
     "output_type": "stream",
     "text": [
      "Root Mean Squared Error: 0.0\n"
     ]
    }
   ],
   "source": [
    "print(\"Root Mean Squared Error:\",np.sqrt(metrics.mean_squared_error(y_test,prediction)))\n"
   ]
  },
  {
   "cell_type": "code",
   "execution_count": 171,
   "id": "9517b701",
   "metadata": {},
   "outputs": [],
   "source": [
    "# Model Saving\n",
    "filename=\"Prediction\"\n",
    "pickle.dump(lr,open(filename,'wb'))"
   ]
  },
  {
   "cell_type": "code",
   "execution_count": 172,
   "id": "bac69cd5",
   "metadata": {},
   "outputs": [],
   "source": [
    "filename='Prediction'\n",
    "model=pickle.load(open(filename,'rb'))"
   ]
  },
  {
   "cell_type": "code",
   "execution_count": 174,
   "id": "955e2cc3",
   "metadata": {},
   "outputs": [
    {
     "data": {
      "text/plain": [
       "array([30., 89.])"
      ]
     },
     "execution_count": 174,
     "metadata": {},
     "output_type": "execute_result"
    }
   ],
   "source": [
    "real=[[10,30],[11,89]]\n",
    "result=model.predict(real)\n",
    "result"
   ]
  }
 ],
 "metadata": {
  "kernelspec": {
   "display_name": "Python 3",
   "language": "python",
   "name": "python3"
  },
  "language_info": {
   "codemirror_mode": {
    "name": "ipython",
    "version": 3
   },
   "file_extension": ".py",
   "mimetype": "text/x-python",
   "name": "python",
   "nbconvert_exporter": "python",
   "pygments_lexer": "ipython3",
   "version": "3.8.8"
  }
 },
 "nbformat": 4,
 "nbformat_minor": 5
}
